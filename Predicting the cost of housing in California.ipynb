{
 "cells": [
  {
   "cell_type": "markdown",
   "id": "GEqQaHzsZ_bA",
   "metadata": {
    "id": "GEqQaHzsZ_bA"
   },
   "source": [
    "# Предсказание стоимости жилья\n",
    "\n",
    "В нашем распоряжении агрегированные данные о жилых массивах США, полученные в рамка хпереписи населения страны. Жилой массив — минимальная географическая единица с населением от 600 до 3000 человек в зависимости от штата. Одна строка в данных содержит статистику в среднем о 1425.5 обитателях жилого массива.  \n",
    "На основе имеющихся данных о жилье в Калифорнии, необходимо предсказать медианную стоимость дома в жилом массиве.  \n",
    "Для решения задачи используем модель по алгоритму линейной регрессии. Для оценки качества модели используем метрики RMSE, MAE и R2.\n",
    "\n",
    "Описание данных:  \n",
    "longitude — широта;  \n",
    "latitude — долгота;  \n",
    "housing_median_age — медианный возраст жителей жилого массива;  \n",
    "total_rooms — общее количество комнат в домах жилого массива;  \n",
    "total_bedrooms — общее количество спален в домах жилого массива;  \n",
    "population — количество человек, которые проживают в жилом массиве;  \n",
    "households — количество домовладений в жилом массиве;  \n",
    "median_income — медианный доход жителей жилого массива;  \n",
    "median_house_value — медианная стоимость дома в жилом массиве;  \n",
    "ocean_proximity — близость к океану."
   ]
  },
  {
   "cell_type": "markdown",
   "id": "53871372",
   "metadata": {
    "id": "53871372"
   },
   "source": [
    "## Открытие и изучение файла"
   ]
  },
  {
   "cell_type": "code",
   "execution_count": 154,
   "id": "df92e3ec",
   "metadata": {
    "id": "df92e3ec"
   },
   "outputs": [],
   "source": [
    "import pandas as pd \n",
    "import numpy as np\n",
    "import matplotlib.pyplot as plt\n",
    "import seaborn as sns\n",
    "\n",
    "import pyspark\n",
    "import pyspark.sql.functions as F\n",
    "\n",
    "from pyspark.ml import Pipeline\n",
    "from pyspark.sql import SparkSession\n",
    "from pyspark.sql.types import *\n",
    "from pyspark.ml.stat import Correlation\n",
    "from pyspark.ml.feature import StringIndexer, VectorAssembler, OneHotEncoder, StandardScaler\n",
    "from pyspark.ml.regression import LinearRegression\n",
    "from pyspark.ml.evaluation import RegressionEvaluator\n",
    "\n",
    "pyspark_version = pyspark.__version__\n",
    "if int(pyspark_version[:1]) == 3:\n",
    "    from pyspark.ml.feature import OneHotEncoder   \n",
    "elif int(pyspark_version[:1]) == 2:\n",
    "    from pyspark.ml.feature import OneHotEncodeEstimatorr "
   ]
  },
  {
   "cell_type": "markdown",
   "id": "8faebb29",
   "metadata": {},
   "source": [
    "Инициализируем локальную Spark-сессию:"
   ]
  },
  {
   "cell_type": "code",
   "execution_count": 155,
   "id": "cf9fb9d4",
   "metadata": {},
   "outputs": [],
   "source": [
    "spark = SparkSession.builder \\\n",
    "                    .master(\"local\") \\\n",
    "                    .appName(\"California - housing costs\") \\\n",
    "                    .getOrCreate()"
   ]
  },
  {
   "cell_type": "markdown",
   "id": "a9681406",
   "metadata": {},
   "source": [
    "Загрузим данные и выведем схему данных:"
   ]
  },
  {
   "cell_type": "code",
   "execution_count": 156,
   "id": "20e9fc63",
   "metadata": {},
   "outputs": [
    {
     "name": "stdout",
     "output_type": "stream",
     "text": [
      "root\n",
      " |-- longitude: double (nullable = true)\n",
      " |-- latitude: double (nullable = true)\n",
      " |-- housing_median_age: double (nullable = true)\n",
      " |-- total_rooms: double (nullable = true)\n",
      " |-- total_bedrooms: double (nullable = true)\n",
      " |-- population: double (nullable = true)\n",
      " |-- households: double (nullable = true)\n",
      " |-- median_income: double (nullable = true)\n",
      " |-- median_house_value: double (nullable = true)\n",
      " |-- ocean_proximity: string (nullable = true)\n",
      "\n"
     ]
    }
   ],
   "source": [
    "df = spark.read.load('/datasets/housing.csv', \n",
    "                                            format='csv', sep=\",\", inferSchema=True, header=\"true\")\n",
    "df.printSchema()"
   ]
  },
  {
   "cell_type": "code",
   "execution_count": 157,
   "id": "0771d21c",
   "metadata": {},
   "outputs": [
    {
     "name": "stdout",
     "output_type": "stream",
     "text": [
      "               column    type\n",
      "0           longitude  double\n",
      "1            latitude  double\n",
      "2  housing_median_age  double\n",
      "3         total_rooms  double\n",
      "4      total_bedrooms  double\n",
      "5          population  double\n",
      "6          households  double\n",
      "7       median_income  double\n",
      "8  median_house_value  double\n",
      "9     ocean_proximity  string\n",
      "+---------+--------+------------------+-----------+--------------+----------+----------+-------------+------------------+---------------+\n",
      "|longitude|latitude|housing_median_age|total_rooms|total_bedrooms|population|households|median_income|median_house_value|ocean_proximity|\n",
      "+---------+--------+------------------+-----------+--------------+----------+----------+-------------+------------------+---------------+\n",
      "|  -122.23|   37.88|              41.0|      880.0|         129.0|     322.0|     126.0|       8.3252|          452600.0|       NEAR BAY|\n",
      "|  -122.22|   37.86|              21.0|     7099.0|        1106.0|    2401.0|    1138.0|       8.3014|          358500.0|       NEAR BAY|\n",
      "|  -122.24|   37.85|              52.0|     1467.0|         190.0|     496.0|     177.0|       7.2574|          352100.0|       NEAR BAY|\n",
      "|  -122.25|   37.85|              52.0|     1274.0|         235.0|     558.0|     219.0|       5.6431|          341300.0|       NEAR BAY|\n",
      "|  -122.25|   37.85|              52.0|     1627.0|         280.0|     565.0|     259.0|       3.8462|          342200.0|       NEAR BAY|\n",
      "|  -122.25|   37.85|              52.0|      919.0|         213.0|     413.0|     193.0|       4.0368|          269700.0|       NEAR BAY|\n",
      "|  -122.25|   37.84|              52.0|     2535.0|         489.0|    1094.0|     514.0|       3.6591|          299200.0|       NEAR BAY|\n",
      "|  -122.25|   37.84|              52.0|     3104.0|         687.0|    1157.0|     647.0|         3.12|          241400.0|       NEAR BAY|\n",
      "|  -122.26|   37.84|              42.0|     2555.0|         665.0|    1206.0|     595.0|       2.0804|          226700.0|       NEAR BAY|\n",
      "|  -122.25|   37.84|              52.0|     3549.0|         707.0|    1551.0|     714.0|       3.6912|          261100.0|       NEAR BAY|\n",
      "+---------+--------+------------------+-----------+--------------+----------+----------+-------------+------------------+---------------+\n",
      "only showing top 10 rows\n",
      "\n"
     ]
    }
   ],
   "source": [
    "print(pd.DataFrame(df.dtypes, columns=['column', 'type']).head(10))\n",
    "df.show(10)"
   ]
  },
  {
   "cell_type": "markdown",
   "id": "65431b2f",
   "metadata": {},
   "source": [
    "Описательные статистики:"
   ]
  },
  {
   "cell_type": "code",
   "execution_count": 158,
   "id": "ebbc3149",
   "metadata": {},
   "outputs": [
    {
     "name": "stderr",
     "output_type": "stream",
     "text": [
      "                                                                                \r"
     ]
    },
    {
     "data": {
      "text/html": [
       "<div>\n",
       "<style scoped>\n",
       "    .dataframe tbody tr th:only-of-type {\n",
       "        vertical-align: middle;\n",
       "    }\n",
       "\n",
       "    .dataframe tbody tr th {\n",
       "        vertical-align: top;\n",
       "    }\n",
       "\n",
       "    .dataframe thead th {\n",
       "        text-align: right;\n",
       "    }\n",
       "</style>\n",
       "<table border=\"1\" class=\"dataframe\">\n",
       "  <thead>\n",
       "    <tr style=\"text-align: right;\">\n",
       "      <th></th>\n",
       "      <th>summary</th>\n",
       "      <th>longitude</th>\n",
       "      <th>latitude</th>\n",
       "      <th>housing_median_age</th>\n",
       "      <th>total_rooms</th>\n",
       "      <th>total_bedrooms</th>\n",
       "      <th>population</th>\n",
       "      <th>households</th>\n",
       "      <th>median_income</th>\n",
       "      <th>median_house_value</th>\n",
       "      <th>ocean_proximity</th>\n",
       "    </tr>\n",
       "  </thead>\n",
       "  <tbody>\n",
       "    <tr>\n",
       "      <th>0</th>\n",
       "      <td>count</td>\n",
       "      <td>20640</td>\n",
       "      <td>20640</td>\n",
       "      <td>20640</td>\n",
       "      <td>20640</td>\n",
       "      <td>20433</td>\n",
       "      <td>20640</td>\n",
       "      <td>20640</td>\n",
       "      <td>20640</td>\n",
       "      <td>20640</td>\n",
       "      <td>20640</td>\n",
       "    </tr>\n",
       "    <tr>\n",
       "      <th>1</th>\n",
       "      <td>mean</td>\n",
       "      <td>-119.56970445736148</td>\n",
       "      <td>35.6318614341087</td>\n",
       "      <td>28.639486434108527</td>\n",
       "      <td>2635.7630813953488</td>\n",
       "      <td>537.8705525375618</td>\n",
       "      <td>1425.4767441860465</td>\n",
       "      <td>499.5396802325581</td>\n",
       "      <td>3.8706710029070246</td>\n",
       "      <td>206855.81690891474</td>\n",
       "      <td>None</td>\n",
       "    </tr>\n",
       "    <tr>\n",
       "      <th>2</th>\n",
       "      <td>stddev</td>\n",
       "      <td>2.003531723502584</td>\n",
       "      <td>2.135952397457101</td>\n",
       "      <td>12.58555761211163</td>\n",
       "      <td>2181.6152515827944</td>\n",
       "      <td>421.38507007403115</td>\n",
       "      <td>1132.46212176534</td>\n",
       "      <td>382.3297528316098</td>\n",
       "      <td>1.899821717945263</td>\n",
       "      <td>115395.61587441359</td>\n",
       "      <td>None</td>\n",
       "    </tr>\n",
       "    <tr>\n",
       "      <th>3</th>\n",
       "      <td>min</td>\n",
       "      <td>-124.35</td>\n",
       "      <td>32.54</td>\n",
       "      <td>1.0</td>\n",
       "      <td>2.0</td>\n",
       "      <td>1.0</td>\n",
       "      <td>3.0</td>\n",
       "      <td>1.0</td>\n",
       "      <td>0.4999</td>\n",
       "      <td>14999.0</td>\n",
       "      <td>&lt;1H OCEAN</td>\n",
       "    </tr>\n",
       "    <tr>\n",
       "      <th>4</th>\n",
       "      <td>max</td>\n",
       "      <td>-114.31</td>\n",
       "      <td>41.95</td>\n",
       "      <td>52.0</td>\n",
       "      <td>39320.0</td>\n",
       "      <td>6445.0</td>\n",
       "      <td>35682.0</td>\n",
       "      <td>6082.0</td>\n",
       "      <td>15.0001</td>\n",
       "      <td>500001.0</td>\n",
       "      <td>NEAR OCEAN</td>\n",
       "    </tr>\n",
       "  </tbody>\n",
       "</table>\n",
       "</div>"
      ],
      "text/plain": [
       "  summary            longitude           latitude  housing_median_age  \\\n",
       "0   count                20640              20640               20640   \n",
       "1    mean  -119.56970445736148   35.6318614341087  28.639486434108527   \n",
       "2  stddev    2.003531723502584  2.135952397457101   12.58555761211163   \n",
       "3     min              -124.35              32.54                 1.0   \n",
       "4     max              -114.31              41.95                52.0   \n",
       "\n",
       "          total_rooms      total_bedrooms          population  \\\n",
       "0               20640               20433               20640   \n",
       "1  2635.7630813953488   537.8705525375618  1425.4767441860465   \n",
       "2  2181.6152515827944  421.38507007403115    1132.46212176534   \n",
       "3                 2.0                 1.0                 3.0   \n",
       "4             39320.0              6445.0             35682.0   \n",
       "\n",
       "          households       median_income  median_house_value ocean_proximity  \n",
       "0              20640               20640               20640           20640  \n",
       "1  499.5396802325581  3.8706710029070246  206855.81690891474            None  \n",
       "2  382.3297528316098   1.899821717945263  115395.61587441359            None  \n",
       "3                1.0              0.4999             14999.0       <1H OCEAN  \n",
       "4             6082.0             15.0001            500001.0      NEAR OCEAN  "
      ]
     },
     "execution_count": 158,
     "metadata": {},
     "output_type": "execute_result"
    }
   ],
   "source": [
    "df.describe().toPandas()"
   ]
  },
  {
   "cell_type": "markdown",
   "id": "14dce3b5",
   "metadata": {},
   "source": [
    "Проверим на наличие пропусков:"
   ]
  },
  {
   "cell_type": "code",
   "execution_count": 159,
   "id": "e395605f",
   "metadata": {},
   "outputs": [
    {
     "name": "stdout",
     "output_type": "stream",
     "text": [
      "longitude 0\n",
      "latitude 0\n",
      "housing_median_age 0\n",
      "total_rooms 0\n",
      "total_bedrooms 207\n",
      "population 0\n",
      "households 0\n",
      "median_income 0\n",
      "median_house_value 0\n",
      "ocean_proximity 0\n"
     ]
    }
   ],
   "source": [
    "columns = df.columns\n",
    "for column in columns:\n",
    "    check_col = F.col(column).isNull()\n",
    "    print(column, df.filter(check_col).count())"
   ]
  },
  {
   "cell_type": "code",
   "execution_count": 160,
   "id": "7ec244b7",
   "metadata": {},
   "outputs": [
    {
     "data": {
      "image/png": "[encoded data removed]",
      "text/plain": [
       "<Figure size 1152x1008 with 9 Axes>"
      ]
     },
     "metadata": {
      "needs_background": "light"
     },
     "output_type": "display_data"
    }
   ],
   "source": [
    "df.sample(False,0.1,0).toPandas().hist(figsize=(16,14))\n",
    "plt.show()"
   ]
  },
  {
   "cell_type": "markdown",
   "id": "724eaea0",
   "metadata": {},
   "source": [
    "**Вывод:**  \n",
    " - Наличие пропусков данных в колонке `total_bedrooms`;   \n",
    " - Тип данных соответствует содержимому.  "
   ]
  },
  {
   "cell_type": "markdown",
   "id": "b3107f2f",
   "metadata": {},
   "source": [
    "## Предобработка данных"
   ]
  },
  {
   "cell_type": "markdown",
   "id": "5d1b311f",
   "metadata": {},
   "source": [
    "### Обработка пропусков"
   ]
  },
  {
   "cell_type": "markdown",
   "id": "f4906763",
   "metadata": {},
   "source": [
    "Заполним пропуски в колонке `total_bedrooms` средним значением:"
   ]
  },
  {
   "cell_type": "code",
   "execution_count": 161,
   "id": "60c3abb7",
   "metadata": {},
   "outputs": [],
   "source": [
    "mean_bedrooms = df.select(F.mean('total_bedrooms')).collect()[0][0]\n",
    "df = df.na.fill({'total_bedrooms': mean_bedrooms})"
   ]
  },
  {
   "cell_type": "markdown",
   "id": "9f0a82f3",
   "metadata": {
    "id": "9f0a82f3"
   },
   "source": [
    "## Исследовательский анализ данных"
   ]
  },
  {
   "cell_type": "markdown",
   "id": "f8590253",
   "metadata": {},
   "source": [
    "Исследуем зависимость медианного дохода жителей от удаленности жилого массива к океану:"
   ]
  },
  {
   "cell_type": "code",
   "execution_count": 162,
   "id": "34abb934",
   "metadata": {
    "scrolled": true
   },
   "outputs": [
    {
     "name": "stderr",
     "output_type": "stream",
     "text": [
      "                                                                                \r"
     ]
    },
    {
     "data": {
      "image/png": "[encoded data removed]",
      "text/plain": [
       "<Figure size 432x288 with 1 Axes>"
      ]
     },
     "metadata": {
      "needs_background": "light"
     },
     "output_type": "display_data"
    }
   ],
   "source": [
    "df_wealthy = df.groupBy('ocean_proximity').agg(F.avg('median_income')).toPandas()\n",
    "sns.barplot(x=df_wealthy['ocean_proximity'], y=df_wealthy['avg(median_income)'])\n",
    "plt.title('Распределние медианного дохода жителей в зависимости от близости к океану')\n",
    "plt.show()"
   ]
  },
  {
   "cell_type": "markdown",
   "id": "85cd3802",
   "metadata": {},
   "source": [
    "**Вывод:** жители с высоким доходом предпочитают селится около залива и океана или на растоянии не более часа езды от океана."
   ]
  },
  {
   "cell_type": "markdown",
   "id": "aa9caaa4",
   "metadata": {},
   "source": [
    "Исследуем зависимость возраста жителей от удаленности жилого массива к океану:"
   ]
  },
  {
   "cell_type": "code",
   "execution_count": 163,
   "id": "3e42f950",
   "metadata": {},
   "outputs": [
    {
     "name": "stderr",
     "output_type": "stream",
     "text": [
      "                                                                                \r"
     ]
    },
    {
     "data": {
      "image/png": "[encoded data removed]",
      "text/plain": [
       "<Figure size 432x288 with 1 Axes>"
      ]
     },
     "metadata": {
      "needs_background": "light"
     },
     "output_type": "display_data"
    }
   ],
   "source": [
    "df_ages = df.groupBy(['housing_median_age','ocean_proximity']).agg(F.count('housing_median_age')).toPandas()\n",
    "\n",
    "sns.lineplot(data=df_ages, \n",
    "    x='housing_median_age', \n",
    "    y='count(housing_median_age)', \n",
    "    hue='ocean_proximity'\n",
    ")\n",
    "plt.show()"
   ]
  },
  {
   "cell_type": "markdown",
   "id": "b7749a77",
   "metadata": {},
   "source": [
    "**Вывод:** Жители в возрасте от 17 до 20 и 35 до 40 лет предпочитают селится на растоянии не более часа езды от океана. Жители в возрасте старше 50 предпочитают селится около залива."
   ]
  },
  {
   "cell_type": "markdown",
   "id": "cfc3283c",
   "metadata": {},
   "source": [
    "## Разработка моделей"
   ]
  },
  {
   "cell_type": "markdown",
   "id": "9b585248",
   "metadata": {},
   "source": [
    "Разработаем две модели по алгоритму линейной регрессии на наборах данных с категориальными и числовыми признаками и только с числовыми. Предварительно проведем векторизацию признаков, исследуем корреляцию признаков и подготовим тренировочный и валидационный наборы данных."
   ]
  },
  {
   "cell_type": "markdown",
   "id": "523c918b",
   "metadata": {},
   "source": [
    "### Создание новых признаков"
   ]
  },
  {
   "cell_type": "markdown",
   "id": "e0b92ae9",
   "metadata": {},
   "source": [
    "Создадим 3 новых столбца с признаками: \n",
    "\n",
    "- `rooms_per_household` - отношение количества комнат `total_rooms` к количеству домовладений `households`;  \n",
    "- `population_in_household` - отношение количества жителей `population` к количеству домовладений `households`;  \n",
    "- `bedroom_index` - отношение количества спален `total_bedrooms` к общему количеству комнат `total_rooms`."
   ]
  },
  {
   "cell_type": "code",
   "execution_count": 164,
   "id": "bb700fe1",
   "metadata": {},
   "outputs": [
    {
     "name": "stdout",
     "output_type": "stream",
     "text": [
      "root\n",
      " |-- longitude: double (nullable = true)\n",
      " |-- latitude: double (nullable = true)\n",
      " |-- housing_median_age: double (nullable = true)\n",
      " |-- total_rooms: double (nullable = true)\n",
      " |-- total_bedrooms: double (nullable = false)\n",
      " |-- population: double (nullable = true)\n",
      " |-- households: double (nullable = true)\n",
      " |-- median_income: double (nullable = true)\n",
      " |-- median_house_value: double (nullable = true)\n",
      " |-- ocean_proximity: string (nullable = true)\n",
      " |-- rooms_per_household: double (nullable = true)\n",
      " |-- population_in_household: double (nullable = true)\n",
      " |-- bedroom_index: double (nullable = true)\n",
      "\n"
     ]
    }
   ],
   "source": [
    "df = df.withColumn('rooms_per_household', F.col('total_rooms') / F.col('households'))\n",
    "df = df.withColumn('population_in_household', F.col('population') / F.col('households'))\n",
    "df = df.withColumn('bedroom_index', F.col('total_bedrooms') / F.col('total_rooms'))\n",
    "\n",
    "df.printSchema()"
   ]
  },
  {
   "cell_type": "markdown",
   "id": "f94f6f90",
   "metadata": {},
   "source": [
    "### Подготовка признаков"
   ]
  },
  {
   "cell_type": "markdown",
   "id": "650c38a5",
   "metadata": {},
   "source": [
    "Разделим признаки на категориальные, числовые и целевой:  "
   ]
  },
  {
   "cell_type": "code",
   "execution_count": 165,
   "id": "02459971",
   "metadata": {},
   "outputs": [],
   "source": [
    "categorical_cols = ['ocean_proximity']\n",
    "numerical_cols  = ['longitude', 'latitude', 'housing_median_age', 'total_rooms', 'total_bedrooms', 'population',\\\n",
    "                   'households', 'median_income', 'rooms_per_household', 'population_in_household', 'bedroom_index']\n",
    "target = 'median_house_value' "
   ]
  },
  {
   "cell_type": "markdown",
   "id": "219ab8bb",
   "metadata": {},
   "source": [
    "Создадим списоки, определяющие план действий для преобразования данных и обучения моделей:  \n",
    "- `stages` - для числовых и категориальных признаков;  \n",
    "- `stages_num` - для числовых признаков."
   ]
  },
  {
   "cell_type": "code",
   "execution_count": 166,
   "id": "4c2b922c",
   "metadata": {},
   "outputs": [],
   "source": [
    "stages = []\n",
    "stages_num = []\n",
    "\n",
    "indexer = StringIndexer(inputCols=categorical_cols, outputCols=[c+'_idx' for c in categorical_cols], handleInvalid = 'keep') \n",
    "encoder = OneHotEncoder(inputCols=[c+'_idx' for c in categorical_cols], outputCols=[c+'_ohe' for c in categorical_cols])\n",
    "categorical_assembler = VectorAssembler(inputCols=[c+'_ohe' for c in categorical_cols], outputCol=\"categorical_features\")\n",
    "stages += [indexer, encoder, categorical_assembler]\n",
    "\n",
    "numerical_assembler = VectorAssembler(inputCols=numerical_cols, outputCol=\"numerical_features\")    \n",
    "standard_scaler = StandardScaler(inputCol='numerical_features', outputCol=\"numerical_features_scaled\")\n",
    "stages += [numerical_assembler, standard_scaler]\n",
    "stages_num += [numerical_assembler, standard_scaler]\n",
    "\n",
    "\n",
    "full_features = ['categorical_features','numerical_features_scaled']\n",
    "final_assembler = VectorAssembler(inputCols=full_features, outputCol='features')\n",
    "stages += [final_assembler]\n",
    "\n",
    "numerical_features = ['numerical_features_scaled']\n",
    "numerical_final_assembler = VectorAssembler(inputCols=numerical_features, outputCol='features_num')\n",
    "\n",
    "stages_num += [numerical_final_assembler]"
   ]
  },
  {
   "cell_type": "code",
   "execution_count": 167,
   "id": "59fc0ece",
   "metadata": {},
   "outputs": [
    {
     "data": {
      "text/plain": [
       "[StringIndexer_5ece77e8d434,\n",
       " OneHotEncoder_0a7a9b83b781,\n",
       " VectorAssembler_d54e8668b337,\n",
       " VectorAssembler_d93eb0f1f7de,\n",
       " StandardScaler_4cb977cfa5e1,\n",
       " VectorAssembler_193d11f02059]"
      ]
     },
     "execution_count": 167,
     "metadata": {},
     "output_type": "execute_result"
    }
   ],
   "source": [
    "stages"
   ]
  },
  {
   "cell_type": "code",
   "execution_count": 168,
   "id": "9d97a801",
   "metadata": {},
   "outputs": [
    {
     "data": {
      "text/plain": [
       "[VectorAssembler_d93eb0f1f7de,\n",
       " StandardScaler_4cb977cfa5e1,\n",
       " VectorAssembler_e23e99168c49]"
      ]
     },
     "execution_count": 168,
     "metadata": {},
     "output_type": "execute_result"
    }
   ],
   "source": [
    "stages_num"
   ]
  },
  {
   "cell_type": "markdown",
   "id": "8efd7afe",
   "metadata": {},
   "source": [
    "### Подготовка наборов данных"
   ]
  },
  {
   "cell_type": "markdown",
   "id": "fb39c222",
   "metadata": {},
   "source": [
    "Перед созданием валидационного и тренировочного наборов данных построим матрицу корреляции для проверки наличия колллинеарности независимых признаков:"
   ]
  },
  {
   "cell_type": "code",
   "execution_count": 169,
   "id": "6c627184",
   "metadata": {},
   "outputs": [],
   "source": [
    "df_corr = df.drop('ocean_proximity')"
   ]
  },
  {
   "cell_type": "code",
   "execution_count": 170,
   "id": "606b8f3a",
   "metadata": {},
   "outputs": [],
   "source": [
    "vector_col = 'corr_features'\n",
    "assembler = VectorAssembler(inputCols=df_corr.columns, outputCol=vector_col)\n",
    "df_vector = assembler.transform(df_corr).select(vector_col)"
   ]
  },
  {
   "cell_type": "code",
   "execution_count": 171,
   "id": "e8f16194",
   "metadata": {},
   "outputs": [],
   "source": [
    "matrix = Correlation.corr(df_vector, vector_col)\n",
    "matrix_corr = matrix.collect()[0][matrix.columns[0]].toArray()\n",
    "corr_matrix_df = pd.DataFrame(data=matrix_corr, columns = df_corr.columns, index=df_corr.columns)"
   ]
  },
  {
   "cell_type": "code",
   "execution_count": 172,
   "id": "947e6a9e",
   "metadata": {},
   "outputs": [
    {
     "data": {
      "image/png": "[encoded data removed]",
      "text/plain": [
       "<Figure size 1296x432 with 2 Axes>"
      ]
     },
     "metadata": {
      "needs_background": "light"
     },
     "output_type": "display_data"
    }
   ],
   "source": [
    "plt.figure(figsize=(18,6))\n",
    "sns.heatmap(corr_matrix_df, \n",
    "            xticklabels=corr_matrix_df.columns.values,\n",
    "            yticklabels=corr_matrix_df.columns.values,  cmap=\"Blues\", annot=True, annot_kws={\"size\": 14})\n",
    "plt.title('Матрица корреляции')\n",
    "plt.show()"
   ]
  },
  {
   "cell_type": "markdown",
   "id": "cf9d5b25",
   "metadata": {},
   "source": [
    "На матрице корреляции отображаются мультиколлениарность независимых признаков:  \n",
    "- households значительно коррелирует с признаками total_rooms, total_bedrooms, population;   \n",
    "- population значительно коррелирует с признаками total_rooms, total_bedrooms, households;  \n",
    "\n",
    "Признаки households, population, total_bedrooms имеют слабую корреляцию с целевым признаком. Удилим их из набора числовых признаков:"
   ]
  },
  {
   "cell_type": "code",
   "execution_count": 173,
   "id": "fbc96872",
   "metadata": {},
   "outputs": [],
   "source": [
    "numerical_cols  = ['longitude', 'latitude', 'housing_median_age', 'total_rooms', 'median_income', 'rooms_per_household', 'population_in_household', 'bedroom_index']"
   ]
  },
  {
   "cell_type": "markdown",
   "id": "998dc84e",
   "metadata": {},
   "source": [
    "Создадим обучающие и валидационные выборки:"
   ]
  },
  {
   "cell_type": "code",
   "execution_count": 174,
   "id": "f047c18f",
   "metadata": {},
   "outputs": [],
   "source": [
    "RANDOM_SEED = 25"
   ]
  },
  {
   "cell_type": "code",
   "execution_count": 175,
   "id": "a5380b92",
   "metadata": {},
   "outputs": [
    {
     "name": "stdout",
     "output_type": "stream",
     "text": [
      "16565 4075\n"
     ]
    }
   ],
   "source": [
    "train_data, valid_data = df.randomSplit([.8,.2], seed=RANDOM_SEED)\n",
    "print(train_data.count(), valid_data.count())"
   ]
  },
  {
   "cell_type": "code",
   "execution_count": 176,
   "id": "3fc2013a",
   "metadata": {},
   "outputs": [
    {
     "name": "stdout",
     "output_type": "stream",
     "text": [
      "16565 4075\n"
     ]
    }
   ],
   "source": [
    "train_data_num, valid_data_num = df_corr.randomSplit([.8,.2], seed=RANDOM_SEED)\n",
    "print(train_data_num.count(), valid_data_num.count())"
   ]
  },
  {
   "cell_type": "markdown",
   "id": "02d0761a",
   "metadata": {
    "id": "bddb08c4"
   },
   "source": [
    "### Обучение моделей "
   ]
  },
  {
   "cell_type": "markdown",
   "id": "31108733",
   "metadata": {},
   "source": [
    "Создадим и обучим модель на категориальных и числовых признаках:"
   ]
  },
  {
   "cell_type": "code",
   "execution_count": 177,
   "id": "b647bf34",
   "metadata": {},
   "outputs": [
    {
     "name": "stderr",
     "output_type": "stream",
     "text": [
      "23/03/27 07:43:27 WARN Instrumentation: [a12f9e8d] regParam is zero, which might cause numerical instability and overfitting.\n"
     ]
    }
   ],
   "source": [
    "lreg_full = LinearRegression(featuresCol='features', labelCol=target, predictionCol='prediction_full')\n",
    "stages += [lreg_full]\n",
    "\n",
    "pipeline_full = Pipeline(stages=stages)\n",
    "\n",
    "model_full = pipeline_full.fit(train_data)"
   ]
  },
  {
   "cell_type": "code",
   "execution_count": 178,
   "id": "cab0f049",
   "metadata": {},
   "outputs": [
    {
     "data": {
      "text/plain": [
       "[StringIndexer_5ece77e8d434,\n",
       " OneHotEncoder_0a7a9b83b781,\n",
       " VectorAssembler_d54e8668b337,\n",
       " VectorAssembler_d93eb0f1f7de,\n",
       " StandardScaler_4cb977cfa5e1,\n",
       " VectorAssembler_193d11f02059,\n",
       " LinearRegression_2793afd13fd1]"
      ]
     },
     "execution_count": 178,
     "metadata": {},
     "output_type": "execute_result"
    }
   ],
   "source": [
    "stages"
   ]
  },
  {
   "cell_type": "markdown",
   "id": "1c2df988",
   "metadata": {},
   "source": [
    "Содадим и обучим модель только на числовых признаках:"
   ]
  },
  {
   "cell_type": "code",
   "execution_count": 179,
   "id": "8f87a193",
   "metadata": {},
   "outputs": [
    {
     "name": "stderr",
     "output_type": "stream",
     "text": [
      "23/03/27 07:43:29 WARN Instrumentation: [3dad46a7] regParam is zero, which might cause numerical instability and overfitting.\n"
     ]
    }
   ],
   "source": [
    "lreg_numerical = LinearRegression(featuresCol='features_num', labelCol=target, predictionCol='prediction_numerical')\n",
    "\n",
    "stages_num += [lreg_numerical]\n",
    "pipeline_numerical = Pipeline(stages=stages_num)\n",
    "\n",
    "model_numerical = pipeline_numerical.fit(train_data_num)"
   ]
  },
  {
   "cell_type": "markdown",
   "id": "711b67f1",
   "metadata": {},
   "source": [
    "### Поверка на валидационной выборке"
   ]
  },
  {
   "cell_type": "markdown",
   "id": "c04040d8",
   "metadata": {},
   "source": [
    "Для проверки качества прогнозирования моделей используем метрики RMSE, MAE и R2. Для расчета метрик создадим функцию `evaluate`. Результаты оформим в сводной таблице."
   ]
  },
  {
   "cell_type": "code",
   "execution_count": 180,
   "id": "876592e5",
   "metadata": {},
   "outputs": [],
   "source": [
    "def evaluate(model, data, prediction_col):\n",
    "    predictions = model.transform(data)\n",
    "    metrics = ['rmse','mae','r2']\n",
    "    evaluators = []\n",
    "    for m in metrics:\n",
    "        evaluator = RegressionEvaluator(predictionCol=prediction_col, labelCol='median_house_value', metricName=m).evaluate(predictions)\n",
    "        evaluators.append(evaluator)\n",
    "    return evaluators"
   ]
  },
  {
   "cell_type": "markdown",
   "id": "ed542467",
   "metadata": {},
   "source": [
    "Создадим сводную таблицу:"
   ]
  },
  {
   "cell_type": "code",
   "execution_count": 181,
   "id": "a7b16530",
   "metadata": {},
   "outputs": [],
   "source": [
    "total_ml = pd.DataFrame(columns=['Name_ml', 'rmse', 'mae', 'r2'])"
   ]
  },
  {
   "cell_type": "markdown",
   "id": "83369a73",
   "metadata": {},
   "source": [
    "Рассчитаем метрики для модели с числовыми и категориальнымии признаками:"
   ]
  },
  {
   "cell_type": "code",
   "execution_count": 182,
   "id": "47c7352c",
   "metadata": {},
   "outputs": [],
   "source": [
    "evaluate_lreg_full = evaluate(model_full, valid_data, 'prediction_full')\n",
    "total_ml = total_ml.append({'Name_ml': 'model_full', 'rmse': evaluate_lreg_full[0],\\\n",
    "                                    'mae': evaluate_lreg_full[1], 'r2': evaluate_lreg_full[2],}, ignore_index=True)"
   ]
  },
  {
   "cell_type": "markdown",
   "id": "1b9fe6f7",
   "metadata": {},
   "source": [
    "Рассчитаем метрики для модели только с числовыми признаками:"
   ]
  },
  {
   "cell_type": "code",
   "execution_count": 183,
   "id": "e9c69c98",
   "metadata": {},
   "outputs": [],
   "source": [
    "evaluate_lreg_num = evaluate(model_numerical, valid_data_num, 'prediction_numerical')\n",
    "total_ml = total_ml.append({'Name_ml': 'model_numerical', 'rmse': evaluate_lreg_num[0],\\\n",
    "                                    'mae': evaluate_lreg_num[1], 'r2': evaluate_lreg_num[2],}, ignore_index=True)"
   ]
  },
  {
   "cell_type": "code",
   "execution_count": 184,
   "id": "322a6fd6",
   "metadata": {},
   "outputs": [
    {
     "data": {
      "text/html": [
       "<div>\n",
       "<style scoped>\n",
       "    .dataframe tbody tr th:only-of-type {\n",
       "        vertical-align: middle;\n",
       "    }\n",
       "\n",
       "    .dataframe tbody tr th {\n",
       "        vertical-align: top;\n",
       "    }\n",
       "\n",
       "    .dataframe thead th {\n",
       "        text-align: right;\n",
       "    }\n",
       "</style>\n",
       "<table border=\"1\" class=\"dataframe\">\n",
       "  <thead>\n",
       "    <tr style=\"text-align: right;\">\n",
       "      <th></th>\n",
       "      <th>Name_ml</th>\n",
       "      <th>rmse</th>\n",
       "      <th>mae</th>\n",
       "      <th>r2</th>\n",
       "    </tr>\n",
       "  </thead>\n",
       "  <tbody>\n",
       "    <tr>\n",
       "      <th>0</th>\n",
       "      <td>model_full</td>\n",
       "      <td>67468.726616</td>\n",
       "      <td>49225.008194</td>\n",
       "      <td>0.653972</td>\n",
       "    </tr>\n",
       "    <tr>\n",
       "      <th>1</th>\n",
       "      <td>model_numerical</td>\n",
       "      <td>68274.742063</td>\n",
       "      <td>50348.361097</td>\n",
       "      <td>0.645655</td>\n",
       "    </tr>\n",
       "  </tbody>\n",
       "</table>\n",
       "</div>"
      ],
      "text/plain": [
       "           Name_ml          rmse           mae        r2\n",
       "0       model_full  67468.726616  49225.008194  0.653972\n",
       "1  model_numerical  68274.742063  50348.361097  0.645655"
      ]
     },
     "execution_count": 184,
     "metadata": {},
     "output_type": "execute_result"
    }
   ],
   "source": [
    "total_ml"
   ]
  },
  {
   "cell_type": "markdown",
   "id": "19583972",
   "metadata": {},
   "source": [
    "Наивысший показатель R2 показала модель на основе данных с категориальными и числовыми признаками. Данная модель показала наименьшие показатели RMSE и MAE."
   ]
  },
  {
   "cell_type": "markdown",
   "id": "834f790e",
   "metadata": {},
   "source": [
    "## Улучшение модели "
   ]
  },
  {
   "cell_type": "code",
   "execution_count": 185,
   "id": "42b226e3",
   "metadata": {},
   "outputs": [],
   "source": [
    "from pyspark.ml.tuning import ParamGridBuilder, CrossValidator\n",
    "\n",
    "# Create ParamGrid for Cross Validation\n",
    "paramGrid = (ParamGridBuilder()\n",
    "             .addGrid(lreg_full.regParam, [0.01, 0.5]) \\\n",
    "             .addGrid(lreg_full.elasticNetParam, [0.5, 1.0]) \\\n",
    "             .build())"
   ]
  },
  {
   "cell_type": "code",
   "execution_count": 186,
   "id": "c8ff79a8",
   "metadata": {},
   "outputs": [],
   "source": [
    "evaluator = RegressionEvaluator(predictionCol='prediction_full',\n",
    "                                labelCol='median_house_value', metricName='r2')"
   ]
  },
  {
   "cell_type": "code",
   "execution_count": 187,
   "id": "03f2d7a5",
   "metadata": {},
   "outputs": [
    {
     "name": "stdout",
     "output_type": "stream",
     "text": [
      "Time to train model: 27.563 seconds\n"
     ]
    }
   ],
   "source": [
    "from time import *\n",
    "start_time = time()\n",
    "\n",
    "# Create 5-fold CrossValidator\n",
    "cv = CrossValidator(estimator=pipeline_full,\n",
    "                    estimatorParamMaps=paramGrid,\n",
    "                    evaluator=evaluator, numFolds=5)\n",
    "\n",
    "# Run cross validations\n",
    "cv_model = cv.fit(train_data)\n",
    "# likely take a fair amount of time\n",
    "end_time = time()\n",
    "elapsed_time = end_time - start_time\n",
    "print(\"Time to train model: %.3f seconds\" % elapsed_time)"
   ]
  },
  {
   "cell_type": "code",
   "execution_count": 193,
   "id": "c8f16d21",
   "metadata": {},
   "outputs": [],
   "source": [
    "best_model = cv_model.bestModel"
   ]
  },
  {
   "cell_type": "code",
   "execution_count": 194,
   "id": "15f61ec9",
   "metadata": {},
   "outputs": [
    {
     "data": {
      "text/plain": [
       "{Param(parent='LinearRegression_2793afd13fd1', name='aggregationDepth', doc='suggested depth for treeAggregate (>= 2).'): 2,\n",
       " Param(parent='LinearRegression_2793afd13fd1', name='elasticNetParam', doc='the ElasticNet mixing parameter, in range [0, 1]. For alpha = 0, the penalty is an L2 penalty. For alpha = 1, it is an L1 penalty.'): 1.0,\n",
       " Param(parent='LinearRegression_2793afd13fd1', name='epsilon', doc='The shape parameter to control the amount of robustness. Must be > 1.0. Only valid when loss is huber'): 1.35,\n",
       " Param(parent='LinearRegression_2793afd13fd1', name='featuresCol', doc='features column name.'): 'features',\n",
       " Param(parent='LinearRegression_2793afd13fd1', name='fitIntercept', doc='whether to fit an intercept term.'): True,\n",
       " Param(parent='LinearRegression_2793afd13fd1', name='labelCol', doc='label column name.'): 'median_house_value',\n",
       " Param(parent='LinearRegression_2793afd13fd1', name='loss', doc='The loss function to be optimized. Supported options: squaredError, huber.'): 'squaredError',\n",
       " Param(parent='LinearRegression_2793afd13fd1', name='maxIter', doc='max number of iterations (>= 0).'): 100,\n",
       " Param(parent='LinearRegression_2793afd13fd1', name='predictionCol', doc='prediction column name.'): 'prediction_full',\n",
       " Param(parent='LinearRegression_2793afd13fd1', name='regParam', doc='regularization parameter (>= 0).'): 0.5,\n",
       " Param(parent='LinearRegression_2793afd13fd1', name='solver', doc='The solver algorithm for optimization. Supported options: auto, normal, l-bfgs.'): 'auto',\n",
       " Param(parent='LinearRegression_2793afd13fd1', name='standardization', doc='whether to standardize the training features before fitting the model.'): True,\n",
       " Param(parent='LinearRegression_2793afd13fd1', name='tol', doc='the convergence tolerance for iterative algorithms (>= 0).'): 1e-06}"
      ]
     },
     "execution_count": 194,
     "metadata": {},
     "output_type": "execute_result"
    }
   ],
   "source": [
    "best_model.stages[6].extractParamMap()"
   ]
  },
  {
   "cell_type": "code",
   "execution_count": 190,
   "id": "36640f07",
   "metadata": {},
   "outputs": [],
   "source": [
    "evaluate_lreg_best = evaluate(best_model, valid_data, 'prediction_full')\n",
    "total_ml = total_ml.append({'Name_ml': 'model_best', 'rmse': evaluate_lreg_best[0],\\\n",
    "                                    'mae': evaluate_lreg_best[1], 'r2': evaluate_lreg_best[2],}, ignore_index=True)"
   ]
  },
  {
   "cell_type": "code",
   "execution_count": 191,
   "id": "90fe92bb",
   "metadata": {},
   "outputs": [
    {
     "data": {
      "text/html": [
       "<div>\n",
       "<style scoped>\n",
       "    .dataframe tbody tr th:only-of-type {\n",
       "        vertical-align: middle;\n",
       "    }\n",
       "\n",
       "    .dataframe tbody tr th {\n",
       "        vertical-align: top;\n",
       "    }\n",
       "\n",
       "    .dataframe thead th {\n",
       "        text-align: right;\n",
       "    }\n",
       "</style>\n",
       "<table border=\"1\" class=\"dataframe\">\n",
       "  <thead>\n",
       "    <tr style=\"text-align: right;\">\n",
       "      <th></th>\n",
       "      <th>Name_ml</th>\n",
       "      <th>rmse</th>\n",
       "      <th>mae</th>\n",
       "      <th>r2</th>\n",
       "    </tr>\n",
       "  </thead>\n",
       "  <tbody>\n",
       "    <tr>\n",
       "      <th>0</th>\n",
       "      <td>model_full</td>\n",
       "      <td>67468.726616</td>\n",
       "      <td>49225.008194</td>\n",
       "      <td>0.653972</td>\n",
       "    </tr>\n",
       "    <tr>\n",
       "      <th>1</th>\n",
       "      <td>model_numerical</td>\n",
       "      <td>68274.742063</td>\n",
       "      <td>50348.361097</td>\n",
       "      <td>0.645655</td>\n",
       "    </tr>\n",
       "    <tr>\n",
       "      <th>2</th>\n",
       "      <td>model_best</td>\n",
       "      <td>67467.390681</td>\n",
       "      <td>49222.169731</td>\n",
       "      <td>0.653985</td>\n",
       "    </tr>\n",
       "  </tbody>\n",
       "</table>\n",
       "</div>"
      ],
      "text/plain": [
       "           Name_ml          rmse           mae        r2\n",
       "0       model_full  67468.726616  49225.008194  0.653972\n",
       "1  model_numerical  68274.742063  50348.361097  0.645655\n",
       "2       model_best  67467.390681  49222.169731  0.653985"
      ]
     },
     "execution_count": 191,
     "metadata": {},
     "output_type": "execute_result"
    }
   ],
   "source": [
    "total_ml"
   ]
  },
  {
   "cell_type": "code",
   "execution_count": 192,
   "id": "d1359ffa",
   "metadata": {},
   "outputs": [],
   "source": [
    "spark.stop()"
   ]
  },
  {
   "cell_type": "markdown",
   "id": "760e065a",
   "metadata": {},
   "source": [
    "**Вывод:** После подбора гиперпараметров модели, кчество предсказаний улучшилось незначительно"
   ]
  },
  {
   "cell_type": "markdown",
   "id": "757fd103",
   "metadata": {
    "id": "757fd103"
   },
   "source": [
    "## Выводы"
   ]
  },
  {
   "cell_type": "markdown",
   "id": "a59cf065",
   "metadata": {},
   "source": [
    "В ходе выполнения работы была проведена продобработка данных, исследовательский анализ данных, исследование корреляции признаков, обучены две модели по алгоритму линейная регрессия на разных наборах данных, кросс-валидация и подбор гиперпараметров модели. Для оценки качества прогнозирования использовались метрики RMSE, MАE и R2.  \n",
    "\n",
    "По результатам исследовательского анализа данных:  \n",
    "- жители с высоким доходом предпочитают селится около залива и океана или на растоянии не более часа езды от океана;  \n",
    "- жители в возрасте от 17 до 20 и от 35 до 40 лет предпочитают селится на растоянии не более часа езды от океана. Жители в возрасте старше 50 предпочитают селится около залива.\n",
    "\n",
    "Наилучшее качество предсказаний получилось у модели на основе данных с категориальными и числовыми признаками.\n",
    "\n"
   ]
  }
 ],
 "metadata": {
  "ExecuteTimeLog": [
   {
    "duration": 779,
    "start_time": "2023-03-15T18:32:41.549Z"
   },
   {
    "duration": 19662,
    "start_time": "2023-03-15T18:41:44.757Z"
   },
   {
    "duration": 5,
    "start_time": "2023-03-15T18:42:58.503Z"
   },
   {
    "duration": 8369,
    "start_time": "2023-03-15T18:45:46.957Z"
   },
   {
    "duration": 946,
    "start_time": "2023-03-15T18:47:31.045Z"
   },
   {
    "duration": 83,
    "start_time": "2023-03-15T18:47:42.798Z"
   },
   {
    "duration": 611,
    "start_time": "2023-03-15T18:47:54.206Z"
   },
   {
    "duration": 6,
    "start_time": "2023-03-15T18:48:19.693Z"
   },
   {
    "duration": 4239,
    "start_time": "2023-03-15T18:50:09.768Z"
   },
   {
    "duration": 1581,
    "start_time": "2023-03-15T18:52:12.550Z"
   },
   {
    "duration": 41,
    "start_time": "2023-03-15T18:59:06.872Z"
   },
   {
    "duration": 10,
    "start_time": "2023-03-15T18:59:31.048Z"
   },
   {
    "duration": 1052,
    "start_time": "2023-03-15T19:00:13.175Z"
   },
   {
    "duration": 9,
    "start_time": "2023-03-15T19:00:31.953Z"
   },
   {
    "duration": 3505,
    "start_time": "2023-03-15T19:00:40.010Z"
   },
   {
    "duration": 19,
    "start_time": "2023-03-15T19:04:43.402Z"
   },
   {
    "duration": 2367,
    "start_time": "2023-03-15T19:07:54.154Z"
   },
   {
    "duration": 3,
    "start_time": "2023-03-15T19:08:31.252Z"
   },
   {
    "duration": 1541,
    "start_time": "2023-03-15T19:08:38.025Z"
   },
   {
    "duration": 1601,
    "start_time": "2023-03-15T19:09:50.437Z"
   },
   {
    "duration": 2697,
    "start_time": "2023-03-15T19:11:31.958Z"
   },
   {
    "duration": 71,
    "start_time": "2023-03-15T19:14:04.755Z"
   },
   {
    "duration": 291,
    "start_time": "2023-03-15T19:16:45.148Z"
   },
   {
    "duration": 3295,
    "start_time": "2023-03-15T19:28:47.173Z"
   },
   {
    "duration": 2244,
    "start_time": "2023-03-15T19:33:46.303Z"
   },
   {
    "duration": 48,
    "start_time": "2023-03-15T19:42:54.366Z"
   },
   {
    "duration": 19,
    "start_time": "2023-03-15T19:47:36.030Z"
   },
   {
    "duration": 14,
    "start_time": "2023-03-15T19:47:53.120Z"
   },
   {
    "duration": 5,
    "start_time": "2023-03-15T19:52:49.367Z"
   },
   {
    "duration": 12,
    "start_time": "2023-03-15T19:52:59.947Z"
   },
   {
    "duration": 27,
    "start_time": "2023-03-15T19:53:42.080Z"
   },
   {
    "duration": 17,
    "start_time": "2023-03-15T19:54:26.211Z"
   },
   {
    "duration": 1327,
    "start_time": "2023-03-16T18:10:21.817Z"
   },
   {
    "duration": 14114,
    "start_time": "2023-03-16T18:10:23.146Z"
   },
   {
    "duration": 7594,
    "start_time": "2023-03-16T18:10:37.262Z"
   },
   {
    "duration": 530,
    "start_time": "2023-03-16T18:10:44.923Z"
   },
   {
    "duration": 3769,
    "start_time": "2023-03-16T18:10:45.455Z"
   },
   {
    "duration": 3600,
    "start_time": "2023-03-16T18:10:49.226Z"
   },
   {
    "duration": 2056,
    "start_time": "2023-03-16T18:10:52.828Z"
   },
   {
    "duration": 99,
    "start_time": "2023-03-16T18:11:11.671Z"
   },
   {
    "duration": 284,
    "start_time": "2023-03-16T18:11:27.961Z"
   },
   {
    "duration": 9,
    "start_time": "2023-03-16T18:17:50.307Z"
   },
   {
    "duration": 17,
    "start_time": "2023-03-16T18:19:14.229Z"
   },
   {
    "duration": 13,
    "start_time": "2023-03-16T18:19:22.055Z"
   },
   {
    "duration": 3,
    "start_time": "2023-03-16T18:21:48.234Z"
   },
   {
    "duration": 13,
    "start_time": "2023-03-16T18:21:56.154Z"
   },
   {
    "duration": 13,
    "start_time": "2023-03-16T18:28:18.442Z"
   },
   {
    "duration": 343,
    "start_time": "2023-03-16T18:41:42.881Z"
   },
   {
    "duration": 16,
    "start_time": "2023-03-16T18:42:20.744Z"
   },
   {
    "duration": 15,
    "start_time": "2023-03-16T18:43:09.124Z"
   },
   {
    "duration": 3358,
    "start_time": "2023-03-16T18:48:14.802Z"
   },
   {
    "duration": 9,
    "start_time": "2023-03-16T18:53:14.145Z"
   },
   {
    "duration": 3213,
    "start_time": "2023-03-16T18:53:22.976Z"
   },
   {
    "duration": 2260,
    "start_time": "2023-03-16T18:53:43.413Z"
   },
   {
    "duration": 3,
    "start_time": "2023-03-16T19:10:53.119Z"
   },
   {
    "duration": 2,
    "start_time": "2023-03-16T19:18:58.570Z"
   },
   {
    "duration": 54,
    "start_time": "2023-03-16T19:21:59.267Z"
   },
   {
    "duration": 3,
    "start_time": "2023-03-16T19:22:05.065Z"
   },
   {
    "duration": 82,
    "start_time": "2023-03-16T19:28:45.678Z"
   },
   {
    "duration": 24,
    "start_time": "2023-03-16T19:28:53.410Z"
   },
   {
    "duration": 19,
    "start_time": "2023-03-16T19:29:54.513Z"
   },
   {
    "duration": 23,
    "start_time": "2023-03-16T19:32:19.151Z"
   },
   {
    "duration": 17,
    "start_time": "2023-03-16T19:40:09.136Z"
   },
   {
    "duration": 11,
    "start_time": "2023-03-16T19:46:24.688Z"
   },
   {
    "duration": 12,
    "start_time": "2023-03-16T19:46:54.628Z"
   },
   {
    "duration": 1869,
    "start_time": "2023-03-16T19:47:41.092Z"
   },
   {
    "duration": 19,
    "start_time": "2023-03-16T19:49:03.089Z"
   },
   {
    "duration": 3,
    "start_time": "2023-03-16T19:49:58.763Z"
   },
   {
    "duration": 22,
    "start_time": "2023-03-16T19:50:02.474Z"
   },
   {
    "duration": 8,
    "start_time": "2023-03-16T19:50:40.847Z"
   },
   {
    "duration": 624,
    "start_time": "2023-03-16T19:50:54.956Z"
   },
   {
    "duration": 142,
    "start_time": "2023-03-16T19:53:04.244Z"
   },
   {
    "duration": 4,
    "start_time": "2023-03-16T19:54:14.086Z"
   },
   {
    "duration": 24,
    "start_time": "2023-03-16T19:54:14.091Z"
   },
   {
    "duration": 509,
    "start_time": "2023-03-16T19:54:14.117Z"
   },
   {
    "duration": 145,
    "start_time": "2023-03-16T19:54:14.628Z"
   },
   {
    "duration": 1181,
    "start_time": "2023-03-16T19:54:14.775Z"
   },
   {
    "duration": 1874,
    "start_time": "2023-03-16T19:54:15.958Z"
   },
   {
    "duration": 1794,
    "start_time": "2023-03-16T19:54:17.833Z"
   },
   {
    "duration": 144,
    "start_time": "2023-03-16T19:54:19.628Z"
   },
   {
    "duration": 1895,
    "start_time": "2023-03-16T19:54:19.774Z"
   },
   {
    "duration": 2153,
    "start_time": "2023-03-16T19:54:21.671Z"
   },
   {
    "duration": 3,
    "start_time": "2023-03-16T19:54:23.826Z"
   },
   {
    "duration": 1203,
    "start_time": "2023-03-16T19:54:23.831Z"
   },
   {
    "duration": 365,
    "start_time": "2023-03-16T19:54:28.372Z"
   },
   {
    "duration": 113,
    "start_time": "2023-03-16T19:54:53.011Z"
   },
   {
    "duration": 7,
    "start_time": "2023-03-16T19:55:32.802Z"
   },
   {
    "duration": 10,
    "start_time": "2023-03-16T19:55:32.811Z"
   },
   {
    "duration": 286,
    "start_time": "2023-03-16T19:55:32.822Z"
   },
   {
    "duration": 131,
    "start_time": "2023-03-16T19:55:33.110Z"
   },
   {
    "duration": 918,
    "start_time": "2023-03-16T19:55:33.243Z"
   },
   {
    "duration": 1406,
    "start_time": "2023-03-16T19:55:34.223Z"
   },
   {
    "duration": 1445,
    "start_time": "2023-03-16T19:55:35.631Z"
   },
   {
    "duration": 159,
    "start_time": "2023-03-16T19:55:37.078Z"
   },
   {
    "duration": 1646,
    "start_time": "2023-03-16T19:55:37.239Z"
   },
   {
    "duration": 1974,
    "start_time": "2023-03-16T19:55:38.887Z"
   },
   {
    "duration": 4,
    "start_time": "2023-03-16T19:55:40.863Z"
   },
   {
    "duration": 1618,
    "start_time": "2023-03-16T19:55:40.925Z"
   },
   {
    "duration": 1039,
    "start_time": "2023-03-16T19:55:45.688Z"
   },
   {
    "duration": 96,
    "start_time": "2023-03-16T19:55:47.026Z"
   },
   {
    "duration": 1698,
    "start_time": "2023-03-16T19:56:15.927Z"
   },
   {
    "duration": 122,
    "start_time": "2023-03-16T20:01:55.155Z"
   },
   {
    "duration": 17,
    "start_time": "2023-03-16T20:05:31.076Z"
   },
   {
    "duration": 310,
    "start_time": "2023-03-16T20:05:58.354Z"
   },
   {
    "duration": 108,
    "start_time": "2023-03-16T20:06:44.364Z"
   },
   {
    "duration": 156,
    "start_time": "2023-03-16T20:07:06.219Z"
   },
   {
    "duration": 224,
    "start_time": "2023-03-16T20:07:12.032Z"
   },
   {
    "duration": 106,
    "start_time": "2023-03-16T20:07:49.964Z"
   },
   {
    "duration": 2522,
    "start_time": "2023-03-16T20:08:03.522Z"
   },
   {
    "duration": 101,
    "start_time": "2023-03-16T20:09:17.872Z"
   },
   {
    "duration": 28,
    "start_time": "2023-03-16T20:10:00.748Z"
   },
   {
    "duration": 14,
    "start_time": "2023-03-16T20:10:13.526Z"
   },
   {
    "duration": 15,
    "start_time": "2023-03-16T20:10:37.139Z"
   },
   {
    "duration": 13,
    "start_time": "2023-03-16T20:10:52.490Z"
   },
   {
    "duration": 9,
    "start_time": "2023-03-16T20:11:09.304Z"
   },
   {
    "duration": 3,
    "start_time": "2023-03-16T20:15:26.918Z"
   },
   {
    "duration": 36,
    "start_time": "2023-03-16T20:15:26.922Z"
   },
   {
    "duration": 251,
    "start_time": "2023-03-16T20:15:26.960Z"
   },
   {
    "duration": 128,
    "start_time": "2023-03-16T20:15:27.212Z"
   },
   {
    "duration": 937,
    "start_time": "2023-03-16T20:15:27.342Z"
   },
   {
    "duration": 1482,
    "start_time": "2023-03-16T20:15:28.280Z"
   },
   {
    "duration": 3891,
    "start_time": "2023-03-16T20:15:29.764Z"
   },
   {
    "duration": 401,
    "start_time": "2023-03-16T20:15:33.662Z"
   },
   {
    "duration": 2585,
    "start_time": "2023-03-16T20:15:34.064Z"
   },
   {
    "duration": 3078,
    "start_time": "2023-03-16T20:15:36.651Z"
   },
   {
    "duration": 4,
    "start_time": "2023-03-16T20:15:39.732Z"
   },
   {
    "duration": 22,
    "start_time": "2023-03-16T20:15:39.737Z"
   },
   {
    "duration": 4,
    "start_time": "2023-03-16T20:15:39.761Z"
   },
   {
    "duration": 143,
    "start_time": "2023-03-16T20:15:44.878Z"
   },
   {
    "duration": 32,
    "start_time": "2023-03-16T20:16:25.114Z"
   },
   {
    "duration": 151,
    "start_time": "2023-03-16T20:22:10.913Z"
   },
   {
    "duration": 85,
    "start_time": "2023-03-16T20:23:05.631Z"
   },
   {
    "duration": 113,
    "start_time": "2023-03-16T20:23:19.360Z"
   },
   {
    "duration": 138,
    "start_time": "2023-03-16T20:23:39.419Z"
   },
   {
    "duration": 119,
    "start_time": "2023-03-16T20:23:44.786Z"
   },
   {
    "duration": 16,
    "start_time": "2023-03-16T20:24:18.965Z"
   },
   {
    "duration": 3,
    "start_time": "2023-03-16T20:24:52.463Z"
   },
   {
    "duration": 127,
    "start_time": "2023-03-16T20:24:58.132Z"
   },
   {
    "duration": 357,
    "start_time": "2023-03-16T20:26:02.078Z"
   },
   {
    "duration": 154,
    "start_time": "2023-03-16T20:26:12.518Z"
   },
   {
    "duration": 7,
    "start_time": "2023-03-16T20:26:28.258Z"
   },
   {
    "duration": 13,
    "start_time": "2023-03-16T20:26:28.268Z"
   },
   {
    "duration": 248,
    "start_time": "2023-03-16T20:26:28.283Z"
   },
   {
    "duration": 141,
    "start_time": "2023-03-16T20:26:28.533Z"
   },
   {
    "duration": 655,
    "start_time": "2023-03-16T20:26:28.676Z"
   },
   {
    "duration": 1281,
    "start_time": "2023-03-16T20:26:29.335Z"
   },
   {
    "duration": 1454,
    "start_time": "2023-03-16T20:26:30.617Z"
   },
   {
    "duration": 165,
    "start_time": "2023-03-16T20:26:32.072Z"
   },
   {
    "duration": 1713,
    "start_time": "2023-03-16T20:26:32.239Z"
   },
   {
    "duration": 1914,
    "start_time": "2023-03-16T20:26:33.954Z"
   },
   {
    "duration": 3,
    "start_time": "2023-03-16T20:26:35.869Z"
   },
   {
    "duration": 340,
    "start_time": "2023-03-16T20:26:40.786Z"
   },
   {
    "duration": 188,
    "start_time": "2023-03-16T20:26:53.660Z"
   },
   {
    "duration": 222,
    "start_time": "2023-03-16T20:27:18.060Z"
   },
   {
    "duration": 38,
    "start_time": "2023-03-16T20:27:57.754Z"
   },
   {
    "duration": 1286,
    "start_time": "2023-03-17T18:57:17.186Z"
   },
   {
    "duration": 4,
    "start_time": "2023-03-17T19:03:27.832Z"
   },
   {
    "duration": 18920,
    "start_time": "2023-03-17T19:03:31.136Z"
   },
   {
    "duration": 8148,
    "start_time": "2023-03-17T19:03:50.058Z"
   },
   {
    "duration": 695,
    "start_time": "2023-03-17T19:03:58.208Z"
   },
   {
    "duration": 4002,
    "start_time": "2023-03-17T19:03:58.904Z"
   },
   {
    "duration": 3771,
    "start_time": "2023-03-17T19:04:02.909Z"
   },
   {
    "duration": 1951,
    "start_time": "2023-03-17T19:04:06.682Z"
   },
   {
    "duration": 261,
    "start_time": "2023-03-17T19:04:14.592Z"
   },
   {
    "duration": 4,
    "start_time": "2023-03-17T19:10:19.300Z"
   },
   {
    "duration": 8,
    "start_time": "2023-03-17T19:10:19.305Z"
   },
   {
    "duration": 505,
    "start_time": "2023-03-17T19:10:19.314Z"
   },
   {
    "duration": 268,
    "start_time": "2023-03-17T19:10:19.820Z"
   },
   {
    "duration": 1195,
    "start_time": "2023-03-17T19:10:20.090Z"
   },
   {
    "duration": 2390,
    "start_time": "2023-03-17T19:10:21.287Z"
   },
   {
    "duration": 1619,
    "start_time": "2023-03-17T19:10:23.678Z"
   },
   {
    "duration": 3,
    "start_time": "2023-03-17T19:10:25.299Z"
   },
   {
    "duration": 293,
    "start_time": "2023-03-17T19:10:25.304Z"
   },
   {
    "duration": 3483,
    "start_time": "2023-03-17T19:10:25.599Z"
   },
   {
    "duration": 3030,
    "start_time": "2023-03-17T19:10:29.083Z"
   },
   {
    "duration": 3,
    "start_time": "2023-03-17T19:10:32.114Z"
   },
   {
    "duration": 1372,
    "start_time": "2023-03-17T19:10:32.118Z"
   },
   {
    "duration": 589,
    "start_time": "2023-03-17T19:10:33.492Z"
   },
   {
    "duration": 29,
    "start_time": "2023-03-17T19:10:34.083Z"
   },
   {
    "duration": 102,
    "start_time": "2023-03-17T19:16:53.088Z"
   },
   {
    "duration": 34,
    "start_time": "2023-03-17T19:17:06.020Z"
   },
   {
    "duration": 1090,
    "start_time": "2023-03-17T19:17:09.220Z"
   },
   {
    "duration": 296,
    "start_time": "2023-03-17T19:20:11.697Z"
   },
   {
    "duration": 9,
    "start_time": "2023-03-17T19:24:17.735Z"
   },
   {
    "duration": 9,
    "start_time": "2023-03-17T19:25:27.500Z"
   },
   {
    "duration": 3153,
    "start_time": "2023-03-17T19:26:17.226Z"
   },
   {
    "duration": 923,
    "start_time": "2023-03-17T19:27:24.398Z"
   },
   {
    "duration": 686,
    "start_time": "2023-03-17T19:27:55.499Z"
   },
   {
    "duration": 650,
    "start_time": "2023-03-17T19:28:20.091Z"
   },
   {
    "duration": 273,
    "start_time": "2023-03-17T19:34:03.907Z"
   },
   {
    "duration": 133,
    "start_time": "2023-03-17T19:35:28.318Z"
   },
   {
    "duration": 560,
    "start_time": "2023-03-17T19:42:05.740Z"
   },
   {
    "duration": 3,
    "start_time": "2023-03-17T19:42:32.896Z"
   },
   {
    "duration": 8,
    "start_time": "2023-03-17T19:42:32.901Z"
   },
   {
    "duration": 316,
    "start_time": "2023-03-17T19:42:32.911Z"
   },
   {
    "duration": 157,
    "start_time": "2023-03-17T19:42:33.229Z"
   },
   {
    "duration": 1015,
    "start_time": "2023-03-17T19:42:33.388Z"
   },
   {
    "duration": 1499,
    "start_time": "2023-03-17T19:42:34.405Z"
   },
   {
    "duration": 1654,
    "start_time": "2023-03-17T19:42:35.906Z"
   },
   {
    "duration": 25,
    "start_time": "2023-03-17T19:42:58.399Z"
   },
   {
    "duration": 441,
    "start_time": "2023-03-17T19:43:36.801Z"
   },
   {
    "duration": 312,
    "start_time": "2023-03-17T19:47:13.614Z"
   },
   {
    "duration": 323,
    "start_time": "2023-03-17T19:49:40.691Z"
   },
   {
    "duration": 8,
    "start_time": "2023-03-17T19:49:46.391Z"
   },
   {
    "duration": 9,
    "start_time": "2023-03-17T19:50:32.442Z"
   },
   {
    "duration": 290,
    "start_time": "2023-03-17T19:51:26.644Z"
   },
   {
    "duration": 10,
    "start_time": "2023-03-17T19:51:31.813Z"
   },
   {
    "duration": 5,
    "start_time": "2023-03-17T19:53:44.553Z"
   },
   {
    "duration": 6,
    "start_time": "2023-03-17T19:53:44.560Z"
   },
   {
    "duration": 280,
    "start_time": "2023-03-17T19:53:44.567Z"
   },
   {
    "duration": 105,
    "start_time": "2023-03-17T19:53:44.850Z"
   },
   {
    "duration": 750,
    "start_time": "2023-03-17T19:53:44.956Z"
   },
   {
    "duration": 1689,
    "start_time": "2023-03-17T19:53:45.707Z"
   },
   {
    "duration": 1452,
    "start_time": "2023-03-17T19:53:47.398Z"
   },
   {
    "duration": 3,
    "start_time": "2023-03-17T19:53:48.851Z"
   },
   {
    "duration": 157,
    "start_time": "2023-03-17T19:53:48.857Z"
   },
   {
    "duration": 1960,
    "start_time": "2023-03-17T19:53:49.015Z"
   },
   {
    "duration": 2088,
    "start_time": "2023-03-17T19:53:50.976Z"
   },
   {
    "duration": 4,
    "start_time": "2023-03-17T19:53:53.066Z"
   },
   {
    "duration": 471,
    "start_time": "2023-03-17T19:53:53.080Z"
   },
   {
    "duration": 185,
    "start_time": "2023-03-17T19:53:53.553Z"
   },
   {
    "duration": 48,
    "start_time": "2023-03-17T19:53:53.740Z"
   },
   {
    "duration": 18,
    "start_time": "2023-03-17T19:53:53.790Z"
   },
   {
    "duration": 335,
    "start_time": "2023-03-17T19:53:53.810Z"
   },
   {
    "duration": 202,
    "start_time": "2023-03-17T19:53:54.147Z"
   },
   {
    "duration": 160,
    "start_time": "2023-03-17T19:53:54.351Z"
   },
   {
    "duration": 5,
    "start_time": "2023-03-17T20:01:04.823Z"
   },
   {
    "duration": 17,
    "start_time": "2023-03-17T20:01:04.830Z"
   },
   {
    "duration": 280,
    "start_time": "2023-03-17T20:01:04.849Z"
   },
   {
    "duration": 152,
    "start_time": "2023-03-17T20:01:05.132Z"
   },
   {
    "duration": 800,
    "start_time": "2023-03-17T20:01:05.286Z"
   },
   {
    "duration": 1451,
    "start_time": "2023-03-17T20:01:06.089Z"
   },
   {
    "duration": 1652,
    "start_time": "2023-03-17T20:01:07.541Z"
   },
   {
    "duration": 3,
    "start_time": "2023-03-17T20:01:09.194Z"
   },
   {
    "duration": 163,
    "start_time": "2023-03-17T20:01:09.203Z"
   },
   {
    "duration": 2235,
    "start_time": "2023-03-17T20:01:09.379Z"
   },
   {
    "duration": 1737,
    "start_time": "2023-03-17T20:01:11.616Z"
   },
   {
    "duration": 4,
    "start_time": "2023-03-17T20:01:13.354Z"
   },
   {
    "duration": 385,
    "start_time": "2023-03-17T20:01:13.360Z"
   },
   {
    "duration": 162,
    "start_time": "2023-03-17T20:01:13.779Z"
   },
   {
    "duration": 17,
    "start_time": "2023-03-17T20:01:13.942Z"
   },
   {
    "duration": 22,
    "start_time": "2023-03-17T20:01:13.979Z"
   },
   {
    "duration": 296,
    "start_time": "2023-03-17T20:01:14.003Z"
   },
   {
    "duration": 164,
    "start_time": "2023-03-17T20:01:14.301Z"
   },
   {
    "duration": 159,
    "start_time": "2023-03-17T20:01:14.480Z"
   },
   {
    "duration": 3,
    "start_time": "2023-03-17T20:01:14.640Z"
   },
   {
    "duration": 639,
    "start_time": "2023-03-17T20:04:33.408Z"
   },
   {
    "duration": 22,
    "start_time": "2023-03-17T20:05:41.234Z"
   },
   {
    "duration": 166,
    "start_time": "2023-03-17T20:05:52.200Z"
   },
   {
    "duration": 24,
    "start_time": "2023-03-17T20:06:19.500Z"
   },
   {
    "duration": 9,
    "start_time": "2023-03-17T20:06:26.094Z"
   },
   {
    "duration": 3,
    "start_time": "2023-03-17T20:07:55.688Z"
   },
   {
    "duration": 1916,
    "start_time": "2023-03-17T20:07:57.688Z"
   },
   {
    "duration": 131,
    "start_time": "2023-03-17T20:08:39.223Z"
   },
   {
    "duration": 998,
    "start_time": "2023-03-17T20:10:58.500Z"
   },
   {
    "duration": 880,
    "start_time": "2023-03-17T20:11:18.713Z"
   },
   {
    "duration": 12,
    "start_time": "2023-03-17T20:14:18.423Z"
   },
   {
    "duration": 64,
    "start_time": "2023-03-17T20:16:40.405Z"
   },
   {
    "duration": 86,
    "start_time": "2023-03-17T20:17:50.255Z"
   },
   {
    "duration": 22,
    "start_time": "2023-03-17T20:26:34.642Z"
   },
   {
    "duration": 6,
    "start_time": "2023-03-17T20:26:58.128Z"
   },
   {
    "duration": 1579,
    "start_time": "2023-03-17T20:28:21.788Z"
   },
   {
    "duration": 1380,
    "start_time": "2023-03-17T20:28:41.443Z"
   },
   {
    "duration": 2677,
    "start_time": "2023-03-17T20:28:50.345Z"
   },
   {
    "duration": 1734,
    "start_time": "2023-03-17T20:29:12.102Z"
   },
   {
    "duration": 2007,
    "start_time": "2023-03-17T20:30:37.940Z"
   },
   {
    "duration": 1385,
    "start_time": "2023-03-17T20:34:32.999Z"
   },
   {
    "duration": 686,
    "start_time": "2023-03-17T20:37:57.011Z"
   },
   {
    "duration": 460,
    "start_time": "2023-03-17T20:38:33.058Z"
   },
   {
    "duration": 458,
    "start_time": "2023-03-17T20:39:27.502Z"
   },
   {
    "duration": 3,
    "start_time": "2023-03-17T20:40:08.517Z"
   },
   {
    "duration": 12,
    "start_time": "2023-03-17T20:40:08.522Z"
   },
   {
    "duration": 278,
    "start_time": "2023-03-17T20:40:08.535Z"
   },
   {
    "duration": 118,
    "start_time": "2023-03-17T20:40:08.814Z"
   },
   {
    "duration": 547,
    "start_time": "2023-03-17T20:40:08.934Z"
   },
   {
    "duration": 1724,
    "start_time": "2023-03-17T20:40:09.482Z"
   },
   {
    "duration": 2604,
    "start_time": "2023-03-17T20:40:11.207Z"
   },
   {
    "duration": 3,
    "start_time": "2023-03-17T20:40:13.812Z"
   },
   {
    "duration": 204,
    "start_time": "2023-03-17T20:40:13.816Z"
   },
   {
    "duration": 1879,
    "start_time": "2023-03-17T20:40:14.022Z"
   },
   {
    "duration": 2108,
    "start_time": "2023-03-17T20:40:15.903Z"
   },
   {
    "duration": 2,
    "start_time": "2023-03-17T20:40:18.013Z"
   },
   {
    "duration": 514,
    "start_time": "2023-03-17T20:40:18.017Z"
   },
   {
    "duration": 150,
    "start_time": "2023-03-17T20:40:18.580Z"
   },
   {
    "duration": 14,
    "start_time": "2023-03-17T20:40:18.780Z"
   },
   {
    "duration": 14,
    "start_time": "2023-03-17T20:40:18.795Z"
   },
   {
    "duration": 478,
    "start_time": "2023-03-17T20:40:18.811Z"
   },
   {
    "duration": 193,
    "start_time": "2023-03-17T20:40:19.290Z"
   },
   {
    "duration": 195,
    "start_time": "2023-03-17T20:40:19.485Z"
   },
   {
    "duration": 509,
    "start_time": "2023-03-17T20:40:25.629Z"
   },
   {
    "duration": 4,
    "start_time": "2023-03-17T20:41:00.697Z"
   },
   {
    "duration": 478,
    "start_time": "2023-03-17T20:42:16.553Z"
   },
   {
    "duration": 444,
    "start_time": "2023-03-17T20:42:20.273Z"
   },
   {
    "duration": 8,
    "start_time": "2023-03-17T20:42:45.635Z"
   },
   {
    "duration": 4,
    "start_time": "2023-03-17T20:42:53.500Z"
   },
   {
    "duration": 95,
    "start_time": "2023-03-17T20:44:09.612Z"
   },
   {
    "duration": 461,
    "start_time": "2023-03-17T20:44:19.418Z"
   },
   {
    "duration": 5,
    "start_time": "2023-03-17T20:44:25.497Z"
   },
   {
    "duration": 26,
    "start_time": "2023-03-17T20:45:25.971Z"
   },
   {
    "duration": 99,
    "start_time": "2023-03-17T20:46:14.954Z"
   },
   {
    "duration": 576,
    "start_time": "2023-03-17T20:47:14.434Z"
   },
   {
    "duration": 10,
    "start_time": "2023-03-17T20:47:19.823Z"
   },
   {
    "duration": 586,
    "start_time": "2023-03-17T20:48:41.696Z"
   },
   {
    "duration": 640,
    "start_time": "2023-03-17T20:48:57.311Z"
   },
   {
    "duration": 570,
    "start_time": "2023-03-17T20:49:03.845Z"
   },
   {
    "duration": 565,
    "start_time": "2023-03-17T20:49:34.310Z"
   },
   {
    "duration": 611,
    "start_time": "2023-03-17T20:51:35.394Z"
   },
   {
    "duration": 588,
    "start_time": "2023-03-17T20:51:51.015Z"
   },
   {
    "duration": 6,
    "start_time": "2023-03-17T20:51:55.507Z"
   },
   {
    "duration": 4,
    "start_time": "2023-03-17T20:52:18.790Z"
   },
   {
    "duration": 633,
    "start_time": "2023-03-17T20:55:04.103Z"
   },
   {
    "duration": 144,
    "start_time": "2023-03-17T20:57:53.505Z"
   },
   {
    "duration": 136,
    "start_time": "2023-03-17T20:58:24.490Z"
   },
   {
    "duration": 5,
    "start_time": "2023-03-18T17:51:04.962Z"
   },
   {
    "duration": 1403,
    "start_time": "2023-03-18T17:52:16.698Z"
   },
   {
    "duration": 15208,
    "start_time": "2023-03-18T17:52:18.103Z"
   },
   {
    "duration": 8986,
    "start_time": "2023-03-18T17:52:33.313Z"
   },
   {
    "duration": 887,
    "start_time": "2023-03-18T17:52:42.302Z"
   },
   {
    "duration": 4802,
    "start_time": "2023-03-18T17:52:43.192Z"
   },
   {
    "duration": 3980,
    "start_time": "2023-03-18T17:52:47.996Z"
   },
   {
    "duration": 2641,
    "start_time": "2023-03-18T17:52:51.977Z"
   },
   {
    "duration": 3,
    "start_time": "2023-03-18T17:52:54.619Z"
   },
   {
    "duration": 304,
    "start_time": "2023-03-18T17:53:25.846Z"
   },
   {
    "duration": 4,
    "start_time": "2023-03-18T17:53:58.596Z"
   },
   {
    "duration": 10,
    "start_time": "2023-03-18T17:54:22.647Z"
   },
   {
    "duration": 4,
    "start_time": "2023-03-18T17:54:38.111Z"
   },
   {
    "duration": 3,
    "start_time": "2023-03-18T17:55:26.303Z"
   },
   {
    "duration": 1480,
    "start_time": "2023-03-18T17:55:57.936Z"
   },
   {
    "duration": 9,
    "start_time": "2023-03-18T17:57:45.125Z"
   },
   {
    "duration": 5,
    "start_time": "2023-03-18T17:57:54.424Z"
   },
   {
    "duration": 6,
    "start_time": "2023-03-18T17:57:54.431Z"
   },
   {
    "duration": 574,
    "start_time": "2023-03-18T17:57:54.438Z"
   },
   {
    "duration": 209,
    "start_time": "2023-03-18T17:57:55.076Z"
   },
   {
    "duration": 1323,
    "start_time": "2023-03-18T17:57:55.287Z"
   },
   {
    "duration": 2777,
    "start_time": "2023-03-18T17:57:56.612Z"
   },
   {
    "duration": 2105,
    "start_time": "2023-03-18T17:57:59.392Z"
   },
   {
    "duration": 4,
    "start_time": "2023-03-18T17:58:01.500Z"
   },
   {
    "duration": 68,
    "start_time": "2023-03-18T17:58:01.507Z"
   },
   {
    "duration": 408,
    "start_time": "2023-03-18T17:58:01.577Z"
   },
   {
    "duration": 4591,
    "start_time": "2023-03-18T17:58:01.986Z"
   },
   {
    "duration": 3534,
    "start_time": "2023-03-18T17:58:06.578Z"
   },
   {
    "duration": 4,
    "start_time": "2023-03-18T17:58:10.114Z"
   },
   {
    "duration": 1561,
    "start_time": "2023-03-18T17:58:10.120Z"
   },
   {
    "duration": 493,
    "start_time": "2023-03-18T17:58:11.683Z"
   },
   {
    "duration": 25,
    "start_time": "2023-03-18T17:58:12.178Z"
   },
   {
    "duration": 86,
    "start_time": "2023-03-18T17:58:12.205Z"
   },
   {
    "duration": 1082,
    "start_time": "2023-03-18T17:58:12.293Z"
   },
   {
    "duration": 398,
    "start_time": "2023-03-18T17:58:13.377Z"
   },
   {
    "duration": 231,
    "start_time": "2023-03-18T17:58:13.777Z"
   },
   {
    "duration": 9,
    "start_time": "2023-03-18T17:58:14.010Z"
   },
   {
    "duration": 3557,
    "start_time": "2023-03-18T17:58:17.326Z"
   },
   {
    "duration": 115,
    "start_time": "2023-03-18T17:59:29.060Z"
   },
   {
    "duration": 111,
    "start_time": "2023-03-18T17:59:52.819Z"
   },
   {
    "duration": 105,
    "start_time": "2023-03-18T17:59:56.541Z"
   },
   {
    "duration": 111,
    "start_time": "2023-03-18T18:00:06.154Z"
   },
   {
    "duration": 24,
    "start_time": "2023-03-18T18:01:08.692Z"
   },
   {
    "duration": 108,
    "start_time": "2023-03-18T18:02:18.761Z"
   },
   {
    "duration": 3,
    "start_time": "2023-03-18T18:04:21.990Z"
   },
   {
    "duration": 35,
    "start_time": "2023-03-18T18:04:34.986Z"
   },
   {
    "duration": 1402,
    "start_time": "2023-03-18T18:04:58.765Z"
   },
   {
    "duration": 1075,
    "start_time": "2023-03-18T18:05:34.131Z"
   },
   {
    "duration": 113,
    "start_time": "2023-03-18T18:06:09.897Z"
   },
   {
    "duration": 114,
    "start_time": "2023-03-18T18:06:25.887Z"
   },
   {
    "duration": 867,
    "start_time": "2023-03-18T18:07:31.517Z"
   },
   {
    "duration": 672,
    "start_time": "2023-03-18T18:08:21.969Z"
   },
   {
    "duration": 739,
    "start_time": "2023-03-18T18:08:36.662Z"
   },
   {
    "duration": 4,
    "start_time": "2023-03-18T18:09:20.894Z"
   },
   {
    "duration": 8,
    "start_time": "2023-03-18T18:09:29.409Z"
   },
   {
    "duration": 692,
    "start_time": "2023-03-18T18:10:36.105Z"
   },
   {
    "duration": 10,
    "start_time": "2023-03-18T18:13:29.805Z"
   },
   {
    "duration": 906,
    "start_time": "2023-03-18T18:13:38.203Z"
   },
   {
    "duration": 498,
    "start_time": "2023-03-18T18:13:47.311Z"
   },
   {
    "duration": 539,
    "start_time": "2023-03-18T18:14:30.708Z"
   },
   {
    "duration": 4,
    "start_time": "2023-03-18T18:14:39.510Z"
   },
   {
    "duration": 6,
    "start_time": "2023-03-18T18:14:39.517Z"
   },
   {
    "duration": 358,
    "start_time": "2023-03-18T18:14:39.525Z"
   },
   {
    "duration": 137,
    "start_time": "2023-03-18T18:14:39.885Z"
   },
   {
    "duration": 1068,
    "start_time": "2023-03-18T18:14:40.025Z"
   },
   {
    "duration": 1748,
    "start_time": "2023-03-18T18:14:41.094Z"
   },
   {
    "duration": 1774,
    "start_time": "2023-03-18T18:14:42.843Z"
   },
   {
    "duration": 4,
    "start_time": "2023-03-18T18:14:44.619Z"
   },
   {
    "duration": 14,
    "start_time": "2023-03-18T18:14:44.624Z"
   },
   {
    "duration": 249,
    "start_time": "2023-03-18T18:14:44.640Z"
   },
   {
    "duration": 2595,
    "start_time": "2023-03-18T18:14:44.892Z"
   },
   {
    "duration": 2266,
    "start_time": "2023-03-18T18:14:47.489Z"
   },
   {
    "duration": 3,
    "start_time": "2023-03-18T18:14:49.757Z"
   },
   {
    "duration": 513,
    "start_time": "2023-03-18T18:14:49.762Z"
   },
   {
    "duration": 156,
    "start_time": "2023-03-18T18:14:50.277Z"
   },
   {
    "duration": 38,
    "start_time": "2023-03-18T18:14:50.438Z"
   },
   {
    "duration": 25,
    "start_time": "2023-03-18T18:14:50.478Z"
   },
   {
    "duration": 586,
    "start_time": "2023-03-18T18:14:50.505Z"
   },
   {
    "duration": 286,
    "start_time": "2023-03-18T18:14:51.093Z"
   },
   {
    "duration": 226,
    "start_time": "2023-03-18T18:14:51.381Z"
   },
   {
    "duration": 6,
    "start_time": "2023-03-18T18:14:51.609Z"
   },
   {
    "duration": 1008,
    "start_time": "2023-03-18T18:14:55.401Z"
   },
   {
    "duration": 553,
    "start_time": "2023-03-18T18:15:25.698Z"
   },
   {
    "duration": 6,
    "start_time": "2023-03-18T18:15:39.614Z"
   },
   {
    "duration": 596,
    "start_time": "2023-03-18T18:16:26.657Z"
   },
   {
    "duration": 612,
    "start_time": "2023-03-18T18:18:40.228Z"
   },
   {
    "duration": 659,
    "start_time": "2023-03-18T18:19:47.977Z"
   },
   {
    "duration": 560,
    "start_time": "2023-03-18T18:25:54.481Z"
   },
   {
    "duration": 611,
    "start_time": "2023-03-18T18:26:02.189Z"
   },
   {
    "duration": 655,
    "start_time": "2023-03-18T18:26:22.668Z"
   },
   {
    "duration": 6,
    "start_time": "2023-03-18T18:27:01.425Z"
   },
   {
    "duration": 3,
    "start_time": "2023-03-18T18:31:04.374Z"
   },
   {
    "duration": 3,
    "start_time": "2023-03-18T18:31:33.040Z"
   },
   {
    "duration": 11,
    "start_time": "2023-03-18T18:32:42.627Z"
   },
   {
    "duration": 22,
    "start_time": "2023-03-18T18:32:53.251Z"
   },
   {
    "duration": 131,
    "start_time": "2023-03-18T18:32:55.151Z"
   },
   {
    "duration": 675,
    "start_time": "2023-03-18T18:34:15.255Z"
   },
   {
    "duration": 472,
    "start_time": "2023-03-18T18:34:29.307Z"
   },
   {
    "duration": 459,
    "start_time": "2023-03-18T18:34:36.768Z"
   },
   {
    "duration": 874,
    "start_time": "2023-03-18T18:34:48.645Z"
   },
   {
    "duration": 822,
    "start_time": "2023-03-18T18:35:19.110Z"
   },
   {
    "duration": 800,
    "start_time": "2023-03-18T18:37:00.902Z"
   },
   {
    "duration": 804,
    "start_time": "2023-03-18T18:37:12.117Z"
   },
   {
    "duration": 855,
    "start_time": "2023-03-18T18:41:31.412Z"
   },
   {
    "duration": 906,
    "start_time": "2023-03-18T18:47:24.422Z"
   },
   {
    "duration": 81,
    "start_time": "2023-03-18T18:59:28.817Z"
   },
   {
    "duration": 3,
    "start_time": "2023-03-18T19:08:36.296Z"
   },
   {
    "duration": 2228,
    "start_time": "2023-03-18T19:08:37.278Z"
   },
   {
    "duration": 1616,
    "start_time": "2023-03-18T19:08:41.100Z"
   },
   {
    "duration": 3322,
    "start_time": "2023-03-18T19:09:35.381Z"
   },
   {
    "duration": 10,
    "start_time": "2023-03-18T19:12:40.304Z"
   },
   {
    "duration": 8,
    "start_time": "2023-03-18T19:12:59.301Z"
   },
   {
    "duration": 118,
    "start_time": "2023-03-18T19:28:15.175Z"
   },
   {
    "duration": 125,
    "start_time": "2023-03-18T19:29:34.111Z"
   },
   {
    "duration": 106,
    "start_time": "2023-03-18T19:29:52.768Z"
   },
   {
    "duration": 7,
    "start_time": "2023-03-18T19:30:52.835Z"
   },
   {
    "duration": 144,
    "start_time": "2023-03-18T19:31:21.967Z"
   },
   {
    "duration": 1161,
    "start_time": "2023-03-18T19:31:34.050Z"
   },
   {
    "duration": 117,
    "start_time": "2023-03-18T19:31:57.733Z"
   },
   {
    "duration": 2168,
    "start_time": "2023-03-18T19:32:21.346Z"
   },
   {
    "duration": 134,
    "start_time": "2023-03-18T19:40:33.318Z"
   },
   {
    "duration": 906,
    "start_time": "2023-03-18T19:41:06.885Z"
   },
   {
    "duration": 618,
    "start_time": "2023-03-18T19:41:13.857Z"
   },
   {
    "duration": 543,
    "start_time": "2023-03-18T19:41:51.767Z"
   },
   {
    "duration": 622,
    "start_time": "2023-03-18T19:42:13.253Z"
   },
   {
    "duration": 488,
    "start_time": "2023-03-18T19:42:53.301Z"
   },
   {
    "duration": 298,
    "start_time": "2023-03-18T19:43:17.824Z"
   },
   {
    "duration": 400,
    "start_time": "2023-03-18T19:43:53.780Z"
   },
   {
    "duration": 317,
    "start_time": "2023-03-18T19:44:39.639Z"
   },
   {
    "duration": 122,
    "start_time": "2023-03-18T19:45:30.774Z"
   },
   {
    "duration": 18,
    "start_time": "2023-03-18T19:46:01.964Z"
   },
   {
    "duration": 667,
    "start_time": "2023-03-18T19:46:06.322Z"
   },
   {
    "duration": 13,
    "start_time": "2023-03-18T19:48:54.120Z"
   },
   {
    "duration": 9,
    "start_time": "2023-03-18T19:52:38.746Z"
   },
   {
    "duration": 4,
    "start_time": "2023-03-18T19:52:43.540Z"
   },
   {
    "duration": 3,
    "start_time": "2023-03-18T19:52:53.771Z"
   },
   {
    "duration": 386,
    "start_time": "2023-03-18T19:55:49.418Z"
   },
   {
    "duration": 493,
    "start_time": "2023-03-18T19:58:36.701Z"
   },
   {
    "duration": 24,
    "start_time": "2023-03-18T19:59:28.194Z"
   },
   {
    "duration": 473,
    "start_time": "2023-03-18T20:00:10.163Z"
   },
   {
    "duration": 463,
    "start_time": "2023-03-18T20:00:24.125Z"
   },
   {
    "duration": 463,
    "start_time": "2023-03-18T20:00:34.336Z"
   },
   {
    "duration": 4,
    "start_time": "2023-03-18T20:02:37.721Z"
   },
   {
    "duration": 382,
    "start_time": "2023-03-18T20:04:03.968Z"
   },
   {
    "duration": 1819,
    "start_time": "2023-03-18T20:05:12.681Z"
   },
   {
    "duration": 328,
    "start_time": "2023-03-18T20:05:26.209Z"
   },
   {
    "duration": 1601,
    "start_time": "2023-03-18T20:05:39.337Z"
   },
   {
    "duration": 326,
    "start_time": "2023-03-18T20:05:49.503Z"
   },
   {
    "duration": 2024,
    "start_time": "2023-03-18T20:06:22.691Z"
   },
   {
    "duration": 348,
    "start_time": "2023-03-18T20:06:29.023Z"
   },
   {
    "duration": 1814,
    "start_time": "2023-03-18T20:06:58.466Z"
   },
   {
    "duration": 369,
    "start_time": "2023-03-18T20:07:06.734Z"
   },
   {
    "duration": 508,
    "start_time": "2023-03-18T20:07:14.969Z"
   },
   {
    "duration": 381,
    "start_time": "2023-03-18T20:07:20.630Z"
   },
   {
    "duration": 1363,
    "start_time": "2023-03-18T20:07:42.697Z"
   },
   {
    "duration": 404,
    "start_time": "2023-03-18T20:07:48.955Z"
   },
   {
    "duration": 1234,
    "start_time": "2023-03-18T20:08:07.672Z"
   },
   {
    "duration": 438,
    "start_time": "2023-03-18T20:08:21.154Z"
   },
   {
    "duration": 1478,
    "start_time": "2023-03-18T20:08:29.722Z"
   },
   {
    "duration": 308,
    "start_time": "2023-03-18T20:08:34.608Z"
   },
   {
    "duration": 1488,
    "start_time": "2023-03-19T18:46:33.011Z"
   },
   {
    "duration": 15879,
    "start_time": "2023-03-19T18:46:34.501Z"
   },
   {
    "duration": 9209,
    "start_time": "2023-03-19T18:46:50.383Z"
   },
   {
    "duration": 788,
    "start_time": "2023-03-19T18:46:59.594Z"
   },
   {
    "duration": 4720,
    "start_time": "2023-03-19T18:47:00.385Z"
   },
   {
    "duration": 4377,
    "start_time": "2023-03-19T18:47:05.107Z"
   },
   {
    "duration": 2345,
    "start_time": "2023-03-19T18:47:09.486Z"
   },
   {
    "duration": 386,
    "start_time": "2023-03-19T18:47:20.230Z"
   },
   {
    "duration": 4643,
    "start_time": "2023-03-19T18:47:22.507Z"
   },
   {
    "duration": 3715,
    "start_time": "2023-03-19T18:47:27.152Z"
   },
   {
    "duration": 3,
    "start_time": "2023-03-19T18:55:55.383Z"
   },
   {
    "duration": 8,
    "start_time": "2023-03-19T19:19:39.520Z"
   },
   {
    "duration": 117,
    "start_time": "2023-03-19T19:21:51.612Z"
   },
   {
    "duration": 7,
    "start_time": "2023-03-19T19:22:59.610Z"
   },
   {
    "duration": 34,
    "start_time": "2023-03-19T19:23:01.628Z"
   },
   {
    "duration": 10,
    "start_time": "2023-03-19T19:23:41.318Z"
   },
   {
    "duration": 8,
    "start_time": "2023-03-19T19:23:45.391Z"
   },
   {
    "duration": 2331,
    "start_time": "2023-03-19T19:23:47.148Z"
   },
   {
    "duration": 10,
    "start_time": "2023-03-19T19:24:16.074Z"
   },
   {
    "duration": 3323,
    "start_time": "2023-03-19T19:24:17.956Z"
   },
   {
    "duration": 380,
    "start_time": "2023-03-19T19:26:23.728Z"
   },
   {
    "duration": 10,
    "start_time": "2023-03-19T19:27:27.028Z"
   },
   {
    "duration": 187,
    "start_time": "2023-03-19T19:27:48.193Z"
   },
   {
    "duration": 6,
    "start_time": "2023-03-19T19:27:56.451Z"
   },
   {
    "duration": 1222,
    "start_time": "2023-03-19T19:28:00.589Z"
   },
   {
    "duration": 245,
    "start_time": "2023-03-19T19:28:08.928Z"
   },
   {
    "duration": 1535,
    "start_time": "2023-03-19T19:29:47.193Z"
   },
   {
    "duration": 1306,
    "start_time": "2023-03-19T19:30:29.444Z"
   },
   {
    "duration": 90,
    "start_time": "2023-03-19T19:30:53.698Z"
   },
   {
    "duration": 32,
    "start_time": "2023-03-19T19:31:48.309Z"
   },
   {
    "duration": 44,
    "start_time": "2023-03-19T19:31:50.042Z"
   },
   {
    "duration": 3268,
    "start_time": "2023-03-19T19:31:52.036Z"
   },
   {
    "duration": 1015,
    "start_time": "2023-03-19T19:31:55.306Z"
   },
   {
    "duration": 2,
    "start_time": "2023-03-19T19:35:17.589Z"
   },
   {
    "duration": 3,
    "start_time": "2023-03-19T19:35:40.880Z"
   },
   {
    "duration": 1001,
    "start_time": "2023-03-19T19:40:07.023Z"
   },
   {
    "duration": 972,
    "start_time": "2023-03-19T19:40:12.461Z"
   },
   {
    "duration": 1453,
    "start_time": "2023-03-19T19:44:02.826Z"
   },
   {
    "duration": 1162,
    "start_time": "2023-03-19T19:44:51.090Z"
   },
   {
    "duration": 3,
    "start_time": "2023-03-19T19:45:55.995Z"
   },
   {
    "duration": 2555,
    "start_time": "2023-03-19T19:46:14.119Z"
   },
   {
    "duration": 1731,
    "start_time": "2023-03-19T19:46:40.201Z"
   },
   {
    "duration": 3361,
    "start_time": "2023-03-19T19:47:02.550Z"
   },
   {
    "duration": 2586,
    "start_time": "2023-03-19T19:47:29.097Z"
   },
   {
    "duration": 998,
    "start_time": "2023-03-19T19:48:35.286Z"
   },
   {
    "duration": 528,
    "start_time": "2023-03-19T19:48:38.981Z"
   },
   {
    "duration": 531,
    "start_time": "2023-03-19T19:48:42.974Z"
   },
   {
    "duration": 26,
    "start_time": "2023-03-19T19:49:05.702Z"
   },
   {
    "duration": 981,
    "start_time": "2023-03-19T19:49:10.015Z"
   },
   {
    "duration": 554,
    "start_time": "2023-03-19T19:49:12.653Z"
   },
   {
    "duration": 610,
    "start_time": "2023-03-19T19:49:15.092Z"
   },
   {
    "duration": 3,
    "start_time": "2023-03-19T19:51:48.807Z"
   },
   {
    "duration": 1093,
    "start_time": "2023-03-19T19:51:59.111Z"
   },
   {
    "duration": 873,
    "start_time": "2023-03-19T19:52:01.356Z"
   },
   {
    "duration": 1521,
    "start_time": "2023-03-19T19:52:08.389Z"
   },
   {
    "duration": 1040,
    "start_time": "2023-03-19T19:52:12.174Z"
   },
   {
    "duration": 2425,
    "start_time": "2023-03-19T19:52:17.213Z"
   },
   {
    "duration": 1661,
    "start_time": "2023-03-19T19:52:22.181Z"
   },
   {
    "duration": 570,
    "start_time": "2023-03-19T19:52:28.718Z"
   },
   {
    "duration": 624,
    "start_time": "2023-03-19T19:52:30.529Z"
   },
   {
    "duration": 591,
    "start_time": "2023-03-19T19:52:36.007Z"
   },
   {
    "duration": 21,
    "start_time": "2023-03-19T19:52:42.080Z"
   },
   {
    "duration": 501,
    "start_time": "2023-03-19T19:52:43.477Z"
   },
   {
    "duration": 699,
    "start_time": "2023-03-19T19:52:45.313Z"
   },
   {
    "duration": 375,
    "start_time": "2023-03-19T19:52:47.157Z"
   },
   {
    "duration": 2,
    "start_time": "2023-03-19T19:54:01.444Z"
   },
   {
    "duration": 1608,
    "start_time": "2023-03-20T19:25:46.138Z"
   },
   {
    "duration": 15983,
    "start_time": "2023-03-20T19:25:53.548Z"
   },
   {
    "duration": 9113,
    "start_time": "2023-03-20T19:26:09.588Z"
   },
   {
    "duration": 823,
    "start_time": "2023-03-20T19:26:18.703Z"
   },
   {
    "duration": 4737,
    "start_time": "2023-03-20T19:26:19.590Z"
   },
   {
    "duration": 3986,
    "start_time": "2023-03-20T19:26:24.329Z"
   },
   {
    "duration": 2980,
    "start_time": "2023-03-20T19:26:28.317Z"
   },
   {
    "duration": 380,
    "start_time": "2023-03-20T19:27:12.222Z"
   },
   {
    "duration": 5525,
    "start_time": "2023-03-20T19:27:16.509Z"
   },
   {
    "duration": 4264,
    "start_time": "2023-03-20T19:27:38.066Z"
   },
   {
    "duration": 5,
    "start_time": "2023-03-20T19:27:58.635Z"
   },
   {
    "duration": 8,
    "start_time": "2023-03-20T19:29:16.226Z"
   },
   {
    "duration": 3595,
    "start_time": "2023-03-20T19:29:21.898Z"
   },
   {
    "duration": 1573,
    "start_time": "2023-03-20T19:29:31.222Z"
   },
   {
    "duration": 22,
    "start_time": "2023-03-20T19:30:20.679Z"
   },
   {
    "duration": 48,
    "start_time": "2023-03-20T19:30:21.639Z"
   },
   {
    "duration": 3507,
    "start_time": "2023-03-20T19:30:22.616Z"
   },
   {
    "duration": 937,
    "start_time": "2023-03-20T19:30:26.125Z"
   },
   {
    "duration": 3,
    "start_time": "2023-03-20T19:31:48.025Z"
   },
   {
    "duration": 1699,
    "start_time": "2023-03-20T19:31:51.695Z"
   },
   {
    "duration": 1568,
    "start_time": "2023-03-20T19:31:54.596Z"
   },
   {
    "duration": 3,
    "start_time": "2023-03-20T19:32:04.520Z"
   },
   {
    "duration": 2471,
    "start_time": "2023-03-20T19:32:05.255Z"
   },
   {
    "duration": 1936,
    "start_time": "2023-03-20T19:32:07.789Z"
   },
   {
    "duration": 3707,
    "start_time": "2023-03-20T19:32:13.192Z"
   },
   {
    "duration": 2967,
    "start_time": "2023-03-20T19:32:16.901Z"
   },
   {
    "duration": 2257,
    "start_time": "2023-03-20T19:32:36.034Z"
   },
   {
    "duration": 723,
    "start_time": "2023-03-20T19:32:41.198Z"
   },
   {
    "duration": 75,
    "start_time": "2023-03-20T19:32:52.701Z"
   },
   {
    "duration": 2229,
    "start_time": "2023-03-20T19:32:59.765Z"
   },
   {
    "duration": 1946,
    "start_time": "2023-03-20T19:33:03.644Z"
   },
   {
    "duration": 636,
    "start_time": "2023-03-20T19:33:08.459Z"
   },
   {
    "duration": 9,
    "start_time": "2023-03-20T19:42:00.229Z"
   },
   {
    "duration": 5,
    "start_time": "2023-03-20T19:42:28.424Z"
   },
   {
    "duration": 5,
    "start_time": "2023-03-20T19:44:43.279Z"
   },
   {
    "duration": 7,
    "start_time": "2023-03-20T19:44:47.746Z"
   },
   {
    "duration": 1418,
    "start_time": "2023-03-20T19:47:49.163Z"
   },
   {
    "duration": 4,
    "start_time": "2023-03-20T19:48:20.539Z"
   },
   {
    "duration": 1037,
    "start_time": "2023-03-20T19:50:50.319Z"
   },
   {
    "duration": 8,
    "start_time": "2023-03-20T19:52:20.777Z"
   },
   {
    "duration": 9,
    "start_time": "2023-03-20T19:52:29.310Z"
   },
   {
    "duration": 108,
    "start_time": "2023-03-20T19:53:41.126Z"
   },
   {
    "duration": 1586,
    "start_time": "2023-03-20T19:54:34.255Z"
   },
   {
    "duration": 894,
    "start_time": "2023-03-20T19:55:31.740Z"
   },
   {
    "duration": 8,
    "start_time": "2023-03-20T19:55:32.999Z"
   },
   {
    "duration": 7,
    "start_time": "2023-03-20T19:59:10.373Z"
   },
   {
    "duration": 7,
    "start_time": "2023-03-20T19:59:32.528Z"
   },
   {
    "duration": 1155,
    "start_time": "2023-03-20T20:00:20.896Z"
   },
   {
    "duration": 1107,
    "start_time": "2023-03-20T20:00:23.969Z"
   },
   {
    "duration": 69,
    "start_time": "2023-03-20T20:01:14.096Z"
   },
   {
    "duration": 5,
    "start_time": "2023-03-20T20:14:05.223Z"
   },
   {
    "duration": 18,
    "start_time": "2023-03-20T20:14:05.230Z"
   },
   {
    "duration": 478,
    "start_time": "2023-03-20T20:14:05.250Z"
   },
   {
    "duration": 270,
    "start_time": "2023-03-20T20:14:05.730Z"
   },
   {
    "duration": 1533,
    "start_time": "2023-03-20T20:14:06.002Z"
   },
   {
    "duration": 1601,
    "start_time": "2023-03-20T20:14:07.589Z"
   },
   {
    "duration": 2218,
    "start_time": "2023-03-20T20:14:09.192Z"
   },
   {
    "duration": 178,
    "start_time": "2023-03-20T20:14:11.412Z"
   },
   {
    "duration": 2409,
    "start_time": "2023-03-20T20:14:11.600Z"
   },
   {
    "duration": 2749,
    "start_time": "2023-03-20T20:14:14.014Z"
   },
   {
    "duration": 4,
    "start_time": "2023-03-20T20:14:16.765Z"
   },
   {
    "duration": 7,
    "start_time": "2023-03-20T20:14:16.771Z"
   },
   {
    "duration": 1041,
    "start_time": "2023-03-20T20:14:16.792Z"
   },
   {
    "duration": 829,
    "start_time": "2023-03-20T20:14:17.836Z"
   },
   {
    "duration": 32,
    "start_time": "2023-03-20T20:14:18.689Z"
   },
   {
    "duration": 85,
    "start_time": "2023-03-20T20:14:18.723Z"
   },
   {
    "duration": 707,
    "start_time": "2023-03-20T20:14:18.811Z"
   },
   {
    "duration": 1038,
    "start_time": "2023-03-20T20:14:19.520Z"
   },
   {
    "duration": 3,
    "start_time": "2023-03-20T20:14:20.559Z"
   },
   {
    "duration": 1084,
    "start_time": "2023-03-20T20:14:20.564Z"
   },
   {
    "duration": 1051,
    "start_time": "2023-03-20T20:14:21.651Z"
   },
   {
    "duration": 5,
    "start_time": "2023-03-20T20:14:22.708Z"
   },
   {
    "duration": 1176,
    "start_time": "2023-03-20T20:14:22.715Z"
   },
   {
    "duration": 1119,
    "start_time": "2023-03-20T20:14:23.892Z"
   },
   {
    "duration": 1515,
    "start_time": "2023-03-20T20:14:25.012Z"
   },
   {
    "duration": 1971,
    "start_time": "2023-03-20T20:14:26.528Z"
   },
   {
    "duration": 10,
    "start_time": "2023-03-20T20:14:28.502Z"
   },
   {
    "duration": 9,
    "start_time": "2023-03-20T20:14:28.515Z"
   },
   {
    "duration": 1289,
    "start_time": "2023-03-20T20:14:28.526Z"
   },
   {
    "duration": 1202,
    "start_time": "2023-03-20T20:14:29.818Z"
   },
   {
    "duration": 9,
    "start_time": "2023-03-20T20:14:31.022Z"
   },
   {
    "duration": 4,
    "start_time": "2023-03-20T20:17:01.872Z"
   },
   {
    "duration": 1395,
    "start_time": "2023-03-22T18:44:17.783Z"
   },
   {
    "duration": 14514,
    "start_time": "2023-03-22T18:44:19.180Z"
   },
   {
    "duration": 8309,
    "start_time": "2023-03-22T18:44:33.696Z"
   },
   {
    "duration": 773,
    "start_time": "2023-03-22T18:44:42.008Z"
   },
   {
    "duration": 4194,
    "start_time": "2023-03-22T18:44:42.782Z"
   },
   {
    "duration": 4105,
    "start_time": "2023-03-22T18:44:46.978Z"
   },
   {
    "duration": 601,
    "start_time": "2023-03-22T18:48:18.181Z"
   },
   {
    "duration": 478,
    "start_time": "2023-03-22T18:48:48.450Z"
   },
   {
    "duration": 13,
    "start_time": "2023-03-22T18:48:59.516Z"
   },
   {
    "duration": 354,
    "start_time": "2023-03-22T18:54:13.230Z"
   },
   {
    "duration": 0,
    "start_time": "2023-03-22T18:54:40.287Z"
   },
   {
    "duration": 12,
    "start_time": "2023-03-22T18:56:13.934Z"
   },
   {
    "duration": 1543,
    "start_time": "2023-03-22T18:56:29.703Z"
   },
   {
    "duration": 3,
    "start_time": "2023-03-22T18:59:12.046Z"
   },
   {
    "duration": 1779,
    "start_time": "2023-03-22T18:59:32.279Z"
   },
   {
    "duration": 13,
    "start_time": "2023-03-22T19:09:20.681Z"
   },
   {
    "duration": 10,
    "start_time": "2023-03-22T19:09:38.295Z"
   },
   {
    "duration": 11,
    "start_time": "2023-03-22T19:11:07.881Z"
   },
   {
    "duration": 12,
    "start_time": "2023-03-22T19:54:29.731Z"
   },
   {
    "duration": 4,
    "start_time": "2023-03-22T19:54:36.603Z"
   },
   {
    "duration": 9,
    "start_time": "2023-03-22T19:55:06.796Z"
   },
   {
    "duration": 12,
    "start_time": "2023-03-22T19:55:58.037Z"
   },
   {
    "duration": 56,
    "start_time": "2023-03-22T19:56:18.841Z"
   },
   {
    "duration": 35,
    "start_time": "2023-03-22T19:56:38.667Z"
   },
   {
    "duration": 6,
    "start_time": "2023-03-22T19:57:58.249Z"
   },
   {
    "duration": 34,
    "start_time": "2023-03-22T19:58:05.038Z"
   },
   {
    "duration": 32,
    "start_time": "2023-03-22T19:58:19.231Z"
   },
   {
    "duration": 6,
    "start_time": "2023-03-22T19:58:23.532Z"
   },
   {
    "duration": 46,
    "start_time": "2023-03-22T20:01:50.683Z"
   },
   {
    "duration": 335,
    "start_time": "2023-03-22T20:01:58.054Z"
   },
   {
    "duration": 1269,
    "start_time": "2023-03-22T20:01:59.728Z"
   },
   {
    "duration": 20,
    "start_time": "2023-03-22T20:02:01.725Z"
   },
   {
    "duration": 11,
    "start_time": "2023-03-22T20:04:21.201Z"
   },
   {
    "duration": 8,
    "start_time": "2023-03-22T20:04:28.155Z"
   },
   {
    "duration": 39,
    "start_time": "2023-03-22T20:04:30.893Z"
   },
   {
    "duration": 33,
    "start_time": "2023-03-22T20:05:01.189Z"
   },
   {
    "duration": 597,
    "start_time": "2023-03-22T20:05:05.892Z"
   },
   {
    "duration": 525,
    "start_time": "2023-03-22T20:06:48.075Z"
   },
   {
    "duration": 37,
    "start_time": "2023-03-22T20:08:47.090Z"
   },
   {
    "duration": 410,
    "start_time": "2023-03-22T20:09:33.226Z"
   },
   {
    "duration": 467,
    "start_time": "2023-03-22T20:09:41.345Z"
   },
   {
    "duration": 22,
    "start_time": "2023-03-22T20:11:30.967Z"
   },
   {
    "duration": 19,
    "start_time": "2023-03-22T20:16:03.769Z"
   },
   {
    "duration": 4,
    "start_time": "2023-03-22T20:19:31.995Z"
   },
   {
    "duration": 4,
    "start_time": "2023-03-22T20:19:32.013Z"
   },
   {
    "duration": 568,
    "start_time": "2023-03-22T20:19:32.020Z"
   },
   {
    "duration": 191,
    "start_time": "2023-03-22T20:19:32.590Z"
   },
   {
    "duration": 1517,
    "start_time": "2023-03-22T20:19:32.783Z"
   },
   {
    "duration": 2809,
    "start_time": "2023-03-22T20:19:34.303Z"
   },
   {
    "duration": 1849,
    "start_time": "2023-03-22T20:19:37.114Z"
   },
   {
    "duration": 2,
    "start_time": "2023-03-22T20:19:38.965Z"
   },
   {
    "duration": 345,
    "start_time": "2023-03-22T20:19:38.974Z"
   },
   {
    "duration": 4533,
    "start_time": "2023-03-22T20:19:39.320Z"
   },
   {
    "duration": 3644,
    "start_time": "2023-03-22T20:19:43.855Z"
   },
   {
    "duration": 4,
    "start_time": "2023-03-22T20:19:47.501Z"
   },
   {
    "duration": 27,
    "start_time": "2023-03-22T20:19:47.508Z"
   },
   {
    "duration": 4,
    "start_time": "2023-03-22T20:19:47.537Z"
   },
   {
    "duration": 33,
    "start_time": "2023-03-22T20:19:47.543Z"
   },
   {
    "duration": 15,
    "start_time": "2023-03-22T20:19:47.578Z"
   },
   {
    "duration": 0,
    "start_time": "2023-03-22T20:19:47.595Z"
   },
   {
    "duration": 0,
    "start_time": "2023-03-22T20:19:47.597Z"
   },
   {
    "duration": 41,
    "start_time": "2023-03-22T20:19:54.682Z"
   },
   {
    "duration": 391,
    "start_time": "2023-03-22T20:19:56.745Z"
   },
   {
    "duration": 409,
    "start_time": "2023-03-22T20:22:35.263Z"
   },
   {
    "duration": 387,
    "start_time": "2023-03-22T20:22:44.285Z"
   },
   {
    "duration": 39,
    "start_time": "2023-03-22T20:23:18.784Z"
   },
   {
    "duration": 310,
    "start_time": "2023-03-22T20:23:46.014Z"
   },
   {
    "duration": 24,
    "start_time": "2023-03-22T20:24:04.653Z"
   },
   {
    "duration": 8,
    "start_time": "2023-03-22T20:26:17.094Z"
   },
   {
    "duration": 340,
    "start_time": "2023-03-22T20:26:35.864Z"
   },
   {
    "duration": 12,
    "start_time": "2023-03-22T20:27:58.424Z"
   },
   {
    "duration": 8,
    "start_time": "2023-03-22T20:28:03.083Z"
   },
   {
    "duration": 5,
    "start_time": "2023-03-22T20:31:33.982Z"
   },
   {
    "duration": 2,
    "start_time": "2023-03-22T20:33:29.922Z"
   },
   {
    "duration": 2,
    "start_time": "2023-03-22T20:34:08.141Z"
   },
   {
    "duration": 17,
    "start_time": "2023-03-22T20:34:11.483Z"
   },
   {
    "duration": 38,
    "start_time": "2023-03-22T20:36:29.435Z"
   },
   {
    "duration": 15,
    "start_time": "2023-03-22T20:42:27.898Z"
   },
   {
    "duration": 7,
    "start_time": "2023-03-22T20:42:59.809Z"
   },
   {
    "duration": 3132,
    "start_time": "2023-03-22T20:43:11.193Z"
   },
   {
    "duration": 10,
    "start_time": "2023-03-22T20:44:25.125Z"
   },
   {
    "duration": 8,
    "start_time": "2023-03-22T20:44:32.527Z"
   },
   {
    "duration": 1501,
    "start_time": "2023-03-22T20:45:15.229Z"
   },
   {
    "duration": 23,
    "start_time": "2023-03-22T20:50:30.133Z"
   },
   {
    "duration": 6,
    "start_time": "2023-03-22T20:50:42.796Z"
   },
   {
    "duration": 26,
    "start_time": "2023-03-22T20:50:43.513Z"
   },
   {
    "duration": 2603,
    "start_time": "2023-03-22T20:50:44.813Z"
   },
   {
    "duration": 911,
    "start_time": "2023-03-22T20:50:57.791Z"
   },
   {
    "duration": 660,
    "start_time": "2023-03-22T20:51:10.821Z"
   },
   {
    "duration": 442,
    "start_time": "2023-03-22T20:51:25.583Z"
   },
   {
    "duration": 463,
    "start_time": "2023-03-22T20:51:32.577Z"
   },
   {
    "duration": 731,
    "start_time": "2023-03-22T20:51:37.477Z"
   },
   {
    "duration": 5071,
    "start_time": "2023-03-22T20:51:47.623Z"
   },
   {
    "duration": 1460,
    "start_time": "2023-03-23T14:06:07.205Z"
   },
   {
    "duration": 16203,
    "start_time": "2023-03-23T14:06:08.668Z"
   },
   {
    "duration": 10808,
    "start_time": "2023-03-23T14:06:24.873Z"
   },
   {
    "duration": 792,
    "start_time": "2023-03-23T14:06:35.685Z"
   },
   {
    "duration": 5365,
    "start_time": "2023-03-23T14:06:36.480Z"
   },
   {
    "duration": 4915,
    "start_time": "2023-03-23T14:06:41.846Z"
   },
   {
    "duration": 2178,
    "start_time": "2023-03-23T14:06:46.763Z"
   },
   {
    "duration": 3,
    "start_time": "2023-03-23T14:06:48.942Z"
   },
   {
    "duration": 508,
    "start_time": "2023-03-23T14:06:48.947Z"
   },
   {
    "duration": 4741,
    "start_time": "2023-03-23T14:06:49.457Z"
   },
   {
    "duration": 3698,
    "start_time": "2023-03-23T14:06:54.200Z"
   },
   {
    "duration": 6,
    "start_time": "2023-03-23T14:06:57.900Z"
   },
   {
    "duration": 94,
    "start_time": "2023-03-23T14:06:57.908Z"
   },
   {
    "duration": 4,
    "start_time": "2023-03-23T14:06:58.008Z"
   },
   {
    "duration": 47,
    "start_time": "2023-03-23T14:06:58.014Z"
   },
   {
    "duration": 6,
    "start_time": "2023-03-23T14:06:58.064Z"
   },
   {
    "duration": 8,
    "start_time": "2023-03-23T14:06:58.072Z"
   },
   {
    "duration": 13,
    "start_time": "2023-03-23T14:06:58.082Z"
   },
   {
    "duration": 348,
    "start_time": "2023-03-23T14:06:58.097Z"
   },
   {
    "duration": 3011,
    "start_time": "2023-03-23T14:06:58.446Z"
   },
   {
    "duration": 728,
    "start_time": "2023-03-23T14:07:01.459Z"
   },
   {
    "duration": 3,
    "start_time": "2023-03-23T14:07:02.189Z"
   },
   {
    "duration": 11,
    "start_time": "2023-03-23T14:07:02.194Z"
   },
   {
    "duration": 4,
    "start_time": "2023-03-23T14:07:02.206Z"
   },
   {
    "duration": 25,
    "start_time": "2023-03-23T14:07:02.211Z"
   },
   {
    "duration": 15,
    "start_time": "2023-03-23T14:07:02.237Z"
   },
   {
    "duration": 2,
    "start_time": "2023-03-23T14:07:02.254Z"
   },
   {
    "duration": 39,
    "start_time": "2023-03-23T14:07:02.259Z"
   },
   {
    "duration": 6775,
    "start_time": "2023-03-23T14:07:02.300Z"
   },
   {
    "duration": 4237,
    "start_time": "2023-03-23T14:08:30.936Z"
   },
   {
    "duration": 5,
    "start_time": "2023-03-23T14:09:29.063Z"
   },
   {
    "duration": 161,
    "start_time": "2023-03-23T14:15:01.932Z"
   },
   {
    "duration": 948,
    "start_time": "2023-03-23T14:15:20.425Z"
   },
   {
    "duration": 840,
    "start_time": "2023-03-23T14:17:31.039Z"
   },
   {
    "duration": 1252,
    "start_time": "2023-03-23T14:18:41.596Z"
   },
   {
    "duration": 944,
    "start_time": "2023-03-23T14:18:51.530Z"
   },
   {
    "duration": 79,
    "start_time": "2023-03-23T14:21:29.121Z"
   },
   {
    "duration": 16,
    "start_time": "2023-03-23T14:22:03.006Z"
   },
   {
    "duration": 155,
    "start_time": "2023-03-23T14:22:22.327Z"
   },
   {
    "duration": 120,
    "start_time": "2023-03-23T14:22:59.900Z"
   },
   {
    "duration": 8,
    "start_time": "2023-03-23T14:29:37.338Z"
   },
   {
    "duration": 8,
    "start_time": "2023-03-23T14:29:53.388Z"
   },
   {
    "duration": 13,
    "start_time": "2023-03-23T14:30:12.543Z"
   },
   {
    "duration": 161,
    "start_time": "2023-03-23T14:30:15.827Z"
   },
   {
    "duration": 16,
    "start_time": "2023-03-23T14:31:10.396Z"
   },
   {
    "duration": 19,
    "start_time": "2023-03-23T14:31:34.956Z"
   },
   {
    "duration": 17,
    "start_time": "2023-03-23T14:31:47.154Z"
   },
   {
    "duration": 14,
    "start_time": "2023-03-23T14:33:53.591Z"
   },
   {
    "duration": 17,
    "start_time": "2023-03-23T14:34:08.713Z"
   },
   {
    "duration": 144,
    "start_time": "2023-03-23T14:34:16.105Z"
   },
   {
    "duration": 8,
    "start_time": "2023-03-23T14:35:13.914Z"
   },
   {
    "duration": 8,
    "start_time": "2023-03-23T14:35:27.991Z"
   },
   {
    "duration": 18,
    "start_time": "2023-03-23T14:35:56.489Z"
   },
   {
    "duration": 6,
    "start_time": "2023-03-23T14:36:31.702Z"
   },
   {
    "duration": 4,
    "start_time": "2023-03-23T14:36:34.102Z"
   },
   {
    "duration": 7,
    "start_time": "2023-03-23T14:36:45.791Z"
   },
   {
    "duration": 5,
    "start_time": "2023-03-23T14:36:56.788Z"
   },
   {
    "duration": 31,
    "start_time": "2023-03-23T14:37:01.198Z"
   },
   {
    "duration": 12,
    "start_time": "2023-03-23T14:37:29.199Z"
   },
   {
    "duration": 1397,
    "start_time": "2023-03-23T14:37:33.304Z"
   },
   {
    "duration": 1073,
    "start_time": "2023-03-23T14:37:54.808Z"
   },
   {
    "duration": 3,
    "start_time": "2023-03-23T14:38:02.005Z"
   },
   {
    "duration": 22,
    "start_time": "2023-03-23T14:39:40.526Z"
   },
   {
    "duration": 4,
    "start_time": "2023-03-23T14:39:57.095Z"
   },
   {
    "duration": 4,
    "start_time": "2023-03-23T14:39:57.103Z"
   },
   {
    "duration": 466,
    "start_time": "2023-03-23T14:39:57.108Z"
   },
   {
    "duration": 174,
    "start_time": "2023-03-23T14:39:57.575Z"
   },
   {
    "duration": 1307,
    "start_time": "2023-03-23T14:39:57.753Z"
   },
   {
    "duration": 1785,
    "start_time": "2023-03-23T14:39:59.062Z"
   },
   {
    "duration": 1399,
    "start_time": "2023-03-23T14:40:00.855Z"
   },
   {
    "duration": 2,
    "start_time": "2023-03-23T14:40:02.256Z"
   },
   {
    "duration": 197,
    "start_time": "2023-03-23T14:40:02.260Z"
   },
   {
    "duration": 2418,
    "start_time": "2023-03-23T14:40:02.459Z"
   },
   {
    "duration": 2580,
    "start_time": "2023-03-23T14:40:04.879Z"
   },
   {
    "duration": 2,
    "start_time": "2023-03-23T14:40:07.461Z"
   },
   {
    "duration": 27,
    "start_time": "2023-03-23T14:40:07.465Z"
   },
   {
    "duration": 3,
    "start_time": "2023-03-23T14:40:07.494Z"
   },
   {
    "duration": 4,
    "start_time": "2023-03-23T14:40:07.499Z"
   },
   {
    "duration": 5,
    "start_time": "2023-03-23T14:40:07.504Z"
   },
   {
    "duration": 6,
    "start_time": "2023-03-23T14:40:07.510Z"
   },
   {
    "duration": 37,
    "start_time": "2023-03-23T14:40:07.517Z"
   },
   {
    "duration": 32,
    "start_time": "2023-03-23T14:40:07.555Z"
   },
   {
    "duration": 677,
    "start_time": "2023-03-23T14:40:07.589Z"
   },
   {
    "duration": 700,
    "start_time": "2023-03-23T14:40:08.268Z"
   },
   {
    "duration": 3,
    "start_time": "2023-03-23T14:40:08.969Z"
   },
   {
    "duration": 3,
    "start_time": "2023-03-23T14:40:08.974Z"
   },
   {
    "duration": 7,
    "start_time": "2023-03-23T14:40:08.979Z"
   },
   {
    "duration": 4,
    "start_time": "2023-03-23T14:40:08.987Z"
   },
   {
    "duration": 3,
    "start_time": "2023-03-23T14:40:08.993Z"
   },
   {
    "duration": 4,
    "start_time": "2023-03-23T14:40:08.997Z"
   },
   {
    "duration": 580,
    "start_time": "2023-03-23T14:40:09.003Z"
   },
   {
    "duration": 412,
    "start_time": "2023-03-23T14:40:09.585Z"
   },
   {
    "duration": 14,
    "start_time": "2023-03-23T14:40:15.259Z"
   },
   {
    "duration": 2486,
    "start_time": "2023-03-23T14:40:30.795Z"
   },
   {
    "duration": 11,
    "start_time": "2023-03-23T14:40:41.439Z"
   },
   {
    "duration": 8,
    "start_time": "2023-03-23T14:41:53.799Z"
   },
   {
    "duration": 4,
    "start_time": "2023-03-23T14:41:54.475Z"
   },
   {
    "duration": 25,
    "start_time": "2023-03-23T14:42:35.791Z"
   },
   {
    "duration": 14,
    "start_time": "2023-03-23T14:42:51.914Z"
   },
   {
    "duration": 10,
    "start_time": "2023-03-23T14:43:13.638Z"
   },
   {
    "duration": 12,
    "start_time": "2023-03-23T14:43:21.474Z"
   },
   {
    "duration": 9,
    "start_time": "2023-03-23T14:43:40.295Z"
   },
   {
    "duration": 7,
    "start_time": "2023-03-23T14:44:04.514Z"
   },
   {
    "duration": 7,
    "start_time": "2023-03-23T14:44:04.523Z"
   },
   {
    "duration": 338,
    "start_time": "2023-03-23T14:44:04.532Z"
   },
   {
    "duration": 114,
    "start_time": "2023-03-23T14:44:04.872Z"
   },
   {
    "duration": 1183,
    "start_time": "2023-03-23T14:44:04.988Z"
   },
   {
    "duration": 1690,
    "start_time": "2023-03-23T14:44:06.173Z"
   },
   {
    "duration": 1318,
    "start_time": "2023-03-23T14:44:07.865Z"
   },
   {
    "duration": 3,
    "start_time": "2023-03-23T14:44:09.185Z"
   },
   {
    "duration": 193,
    "start_time": "2023-03-23T14:44:09.190Z"
   },
   {
    "duration": 2532,
    "start_time": "2023-03-23T14:44:09.385Z"
   },
   {
    "duration": 2382,
    "start_time": "2023-03-23T14:44:11.918Z"
   },
   {
    "duration": 3,
    "start_time": "2023-03-23T14:44:14.303Z"
   },
   {
    "duration": 63,
    "start_time": "2023-03-23T14:44:14.307Z"
   },
   {
    "duration": 4,
    "start_time": "2023-03-23T14:44:14.372Z"
   },
   {
    "duration": 17,
    "start_time": "2023-03-23T14:44:14.378Z"
   },
   {
    "duration": 10,
    "start_time": "2023-03-23T14:44:14.397Z"
   },
   {
    "duration": 21,
    "start_time": "2023-03-23T14:44:14.409Z"
   },
   {
    "duration": 26,
    "start_time": "2023-03-23T14:44:14.431Z"
   },
   {
    "duration": 31,
    "start_time": "2023-03-23T14:44:14.459Z"
   },
   {
    "duration": 532,
    "start_time": "2023-03-23T14:44:14.492Z"
   },
   {
    "duration": 671,
    "start_time": "2023-03-23T14:44:15.046Z"
   },
   {
    "duration": 3,
    "start_time": "2023-03-23T14:44:15.720Z"
   },
   {
    "duration": 20,
    "start_time": "2023-03-23T14:44:15.725Z"
   },
   {
    "duration": 3,
    "start_time": "2023-03-23T14:44:15.758Z"
   },
   {
    "duration": 9,
    "start_time": "2023-03-23T14:44:15.762Z"
   },
   {
    "duration": 4,
    "start_time": "2023-03-23T14:44:15.772Z"
   },
   {
    "duration": 3,
    "start_time": "2023-03-23T14:44:15.777Z"
   },
   {
    "duration": 483,
    "start_time": "2023-03-23T14:44:15.783Z"
   },
   {
    "duration": 605,
    "start_time": "2023-03-23T14:44:16.268Z"
   },
   {
    "duration": 2034,
    "start_time": "2023-03-23T14:44:16.875Z"
   },
   {
    "duration": 5,
    "start_time": "2023-03-23T14:44:18.911Z"
   },
   {
    "duration": 9,
    "start_time": "2023-03-23T14:44:18.918Z"
   },
   {
    "duration": 7,
    "start_time": "2023-03-23T14:44:18.941Z"
   },
   {
    "duration": 9,
    "start_time": "2023-03-23T14:44:36.387Z"
   },
   {
    "duration": 7,
    "start_time": "2023-03-23T14:44:48.279Z"
   },
   {
    "duration": 39,
    "start_time": "2023-03-23T14:44:53.338Z"
   },
   {
    "duration": 4,
    "start_time": "2023-03-23T14:46:02.803Z"
   },
   {
    "duration": 13,
    "start_time": "2023-03-23T14:46:02.808Z"
   },
   {
    "duration": 297,
    "start_time": "2023-03-23T14:46:02.823Z"
   },
   {
    "duration": 88,
    "start_time": "2023-03-23T14:46:03.121Z"
   },
   {
    "duration": 750,
    "start_time": "2023-03-23T14:46:03.211Z"
   },
   {
    "duration": 1349,
    "start_time": "2023-03-23T14:46:03.962Z"
   },
   {
    "duration": 1588,
    "start_time": "2023-03-23T14:46:05.313Z"
   },
   {
    "duration": 3,
    "start_time": "2023-03-23T14:46:06.902Z"
   },
   {
    "duration": 179,
    "start_time": "2023-03-23T14:46:06.907Z"
   },
   {
    "duration": 1886,
    "start_time": "2023-03-23T14:46:07.087Z"
   },
   {
    "duration": 2759,
    "start_time": "2023-03-23T14:46:08.975Z"
   },
   {
    "duration": 17,
    "start_time": "2023-03-23T14:46:11.736Z"
   },
   {
    "duration": 31,
    "start_time": "2023-03-23T14:46:11.758Z"
   },
   {
    "duration": 11,
    "start_time": "2023-03-23T14:46:11.790Z"
   },
   {
    "duration": 31,
    "start_time": "2023-03-23T14:46:11.803Z"
   },
   {
    "duration": 39,
    "start_time": "2023-03-23T14:46:11.836Z"
   },
   {
    "duration": 24,
    "start_time": "2023-03-23T14:46:11.877Z"
   },
   {
    "duration": 19,
    "start_time": "2023-03-23T14:46:11.903Z"
   },
   {
    "duration": 141,
    "start_time": "2023-03-23T14:46:11.924Z"
   },
   {
    "duration": 593,
    "start_time": "2023-03-23T14:46:12.067Z"
   },
   {
    "duration": 714,
    "start_time": "2023-03-23T14:46:12.662Z"
   },
   {
    "duration": 3,
    "start_time": "2023-03-23T14:46:13.378Z"
   },
   {
    "duration": 39,
    "start_time": "2023-03-23T14:46:13.383Z"
   },
   {
    "duration": 40,
    "start_time": "2023-03-23T14:46:13.424Z"
   },
   {
    "duration": 30,
    "start_time": "2023-03-23T14:46:13.466Z"
   },
   {
    "duration": 33,
    "start_time": "2023-03-23T14:46:13.498Z"
   },
   {
    "duration": 49,
    "start_time": "2023-03-23T14:46:13.532Z"
   },
   {
    "duration": 505,
    "start_time": "2023-03-23T14:46:13.582Z"
   },
   {
    "duration": 419,
    "start_time": "2023-03-23T14:46:14.090Z"
   },
   {
    "duration": 1758,
    "start_time": "2023-03-23T14:46:14.511Z"
   },
   {
    "duration": 5,
    "start_time": "2023-03-23T14:46:16.271Z"
   },
   {
    "duration": 11,
    "start_time": "2023-03-23T14:46:16.279Z"
   },
   {
    "duration": 6,
    "start_time": "2023-03-23T14:46:16.291Z"
   },
   {
    "duration": 32,
    "start_time": "2023-03-23T14:46:21.083Z"
   },
   {
    "duration": 2882,
    "start_time": "2023-03-23T14:46:38.892Z"
   },
   {
    "duration": 1360,
    "start_time": "2023-03-23T18:11:56.675Z"
   },
   {
    "duration": 16106,
    "start_time": "2023-03-23T18:11:58.037Z"
   },
   {
    "duration": 10104,
    "start_time": "2023-03-23T18:12:14.145Z"
   },
   {
    "duration": 904,
    "start_time": "2023-03-23T18:12:24.251Z"
   },
   {
    "duration": 5410,
    "start_time": "2023-03-23T18:12:25.158Z"
   },
   {
    "duration": 4701,
    "start_time": "2023-03-23T18:12:30.570Z"
   },
   {
    "duration": 1956,
    "start_time": "2023-03-23T18:12:35.274Z"
   },
   {
    "duration": 2,
    "start_time": "2023-03-23T18:12:37.234Z"
   },
   {
    "duration": 497,
    "start_time": "2023-03-23T18:12:37.238Z"
   },
   {
    "duration": 4778,
    "start_time": "2023-03-23T18:12:37.737Z"
   },
   {
    "duration": 4262,
    "start_time": "2023-03-23T18:12:42.517Z"
   },
   {
    "duration": 7,
    "start_time": "2023-03-23T18:12:46.782Z"
   },
   {
    "duration": 183,
    "start_time": "2023-03-23T18:12:46.791Z"
   },
   {
    "duration": 6,
    "start_time": "2023-03-23T18:12:46.978Z"
   },
   {
    "duration": 4,
    "start_time": "2023-03-23T18:12:56.847Z"
   },
   {
    "duration": 43,
    "start_time": "2023-03-23T18:14:46.827Z"
   },
   {
    "duration": 5,
    "start_time": "2023-03-23T18:14:47.798Z"
   },
   {
    "duration": 4,
    "start_time": "2023-03-23T18:14:48.696Z"
   },
   {
    "duration": 6,
    "start_time": "2023-03-23T18:14:49.982Z"
   },
   {
    "duration": 3,
    "start_time": "2023-03-23T18:14:54.270Z"
   },
   {
    "duration": 4,
    "start_time": "2023-03-23T18:14:55.400Z"
   },
   {
    "duration": 9,
    "start_time": "2023-03-23T18:15:01.242Z"
   },
   {
    "duration": 397,
    "start_time": "2023-03-23T18:15:02.159Z"
   },
   {
    "duration": 3237,
    "start_time": "2023-03-23T18:15:04.510Z"
   },
   {
    "duration": 879,
    "start_time": "2023-03-23T18:15:07.749Z"
   },
   {
    "duration": 4,
    "start_time": "2023-03-23T18:15:22.329Z"
   },
   {
    "duration": 3,
    "start_time": "2023-03-23T18:15:47.633Z"
   },
   {
    "duration": 3,
    "start_time": "2023-03-23T18:15:49.170Z"
   },
   {
    "duration": 3,
    "start_time": "2023-03-23T18:15:49.823Z"
   },
   {
    "duration": 3,
    "start_time": "2023-03-23T18:15:51.973Z"
   },
   {
    "duration": 3,
    "start_time": "2023-03-23T18:15:53.207Z"
   },
   {
    "duration": 3,
    "start_time": "2023-03-23T18:15:54.281Z"
   },
   {
    "duration": 1494,
    "start_time": "2023-03-23T18:16:09.258Z"
   },
   {
    "duration": 1100,
    "start_time": "2023-03-23T18:16:13.133Z"
   },
   {
    "duration": 6893,
    "start_time": "2023-03-23T18:16:45.458Z"
   },
   {
    "duration": 4495,
    "start_time": "2023-03-23T18:19:01.812Z"
   },
   {
    "duration": 4,
    "start_time": "2023-03-23T18:19:25.350Z"
   },
   {
    "duration": 12,
    "start_time": "2023-03-23T18:19:25.357Z"
   },
   {
    "duration": 564,
    "start_time": "2023-03-23T18:19:25.371Z"
   },
   {
    "duration": 158,
    "start_time": "2023-03-23T18:19:25.938Z"
   },
   {
    "duration": 1472,
    "start_time": "2023-03-23T18:19:26.097Z"
   },
   {
    "duration": 2164,
    "start_time": "2023-03-23T18:19:27.571Z"
   },
   {
    "duration": 2087,
    "start_time": "2023-03-23T18:19:29.737Z"
   },
   {
    "duration": 7,
    "start_time": "2023-03-23T18:19:31.826Z"
   },
   {
    "duration": 197,
    "start_time": "2023-03-23T18:19:31.837Z"
   },
   {
    "duration": 3113,
    "start_time": "2023-03-23T18:19:32.038Z"
   },
   {
    "duration": 2904,
    "start_time": "2023-03-23T18:19:35.153Z"
   },
   {
    "duration": 3,
    "start_time": "2023-03-23T18:19:38.059Z"
   },
   {
    "duration": 45,
    "start_time": "2023-03-23T18:19:38.064Z"
   },
   {
    "duration": 27,
    "start_time": "2023-03-23T18:19:38.111Z"
   },
   {
    "duration": 14,
    "start_time": "2023-03-23T18:19:38.140Z"
   },
   {
    "duration": 46,
    "start_time": "2023-03-23T18:19:38.156Z"
   },
   {
    "duration": 50,
    "start_time": "2023-03-23T18:19:38.204Z"
   },
   {
    "duration": 20,
    "start_time": "2023-03-23T18:19:38.256Z"
   },
   {
    "duration": 39,
    "start_time": "2023-03-23T18:19:38.278Z"
   },
   {
    "duration": 57,
    "start_time": "2023-03-23T18:19:38.319Z"
   },
   {
    "duration": 1022,
    "start_time": "2023-03-23T18:19:38.378Z"
   },
   {
    "duration": 1017,
    "start_time": "2023-03-23T18:19:39.402Z"
   },
   {
    "duration": 3,
    "start_time": "2023-03-23T18:19:40.420Z"
   },
   {
    "duration": 5,
    "start_time": "2023-03-23T18:19:40.436Z"
   },
   {
    "duration": 7,
    "start_time": "2023-03-23T18:19:40.443Z"
   },
   {
    "duration": 4,
    "start_time": "2023-03-23T18:19:40.452Z"
   },
   {
    "duration": 6,
    "start_time": "2023-03-23T18:19:40.458Z"
   },
   {
    "duration": 8,
    "start_time": "2023-03-23T18:19:40.466Z"
   },
   {
    "duration": 563,
    "start_time": "2023-03-23T18:19:40.476Z"
   },
   {
    "duration": 555,
    "start_time": "2023-03-23T18:19:41.041Z"
   },
   {
    "duration": 2791,
    "start_time": "2023-03-23T18:19:50.752Z"
   },
   {
    "duration": 4,
    "start_time": "2023-03-23T18:19:53.871Z"
   },
   {
    "duration": 2594,
    "start_time": "2023-03-23T18:21:31.577Z"
   },
   {
    "duration": 53,
    "start_time": "2023-03-23T18:23:53.620Z"
   },
   {
    "duration": 57,
    "start_time": "2023-03-23T18:25:53.278Z"
   },
   {
    "duration": 8,
    "start_time": "2023-03-23T18:33:23.881Z"
   },
   {
    "duration": 5,
    "start_time": "2023-03-23T18:33:35.586Z"
   },
   {
    "duration": 10,
    "start_time": "2023-03-23T18:34:55.026Z"
   },
   {
    "duration": 98,
    "start_time": "2023-03-23T18:35:47.847Z"
   },
   {
    "duration": 1426,
    "start_time": "2023-03-23T18:36:00.481Z"
   },
   {
    "duration": 1209,
    "start_time": "2023-03-23T18:36:15.533Z"
   },
   {
    "duration": 843,
    "start_time": "2023-03-23T18:36:26.524Z"
   },
   {
    "duration": 10,
    "start_time": "2023-03-23T18:36:27.906Z"
   },
   {
    "duration": 395,
    "start_time": "2023-03-23T18:37:24.156Z"
   },
   {
    "duration": 1314,
    "start_time": "2023-03-23T18:38:02.762Z"
   },
   {
    "duration": 15167,
    "start_time": "2023-03-23T18:38:04.078Z"
   },
   {
    "duration": 9230,
    "start_time": "2023-03-23T18:38:19.247Z"
   },
   {
    "duration": 703,
    "start_time": "2023-03-23T18:38:28.535Z"
   },
   {
    "duration": 4210,
    "start_time": "2023-03-23T18:38:29.240Z"
   },
   {
    "duration": 4193,
    "start_time": "2023-03-23T18:38:33.452Z"
   },
   {
    "duration": 1753,
    "start_time": "2023-03-23T18:38:37.647Z"
   },
   {
    "duration": 3,
    "start_time": "2023-03-23T18:38:39.401Z"
   },
   {
    "duration": 529,
    "start_time": "2023-03-23T18:38:39.405Z"
   },
   {
    "duration": 4738,
    "start_time": "2023-03-23T18:38:39.937Z"
   },
   {
    "duration": 3713,
    "start_time": "2023-03-23T18:38:44.677Z"
   },
   {
    "duration": 3,
    "start_time": "2023-03-23T18:38:48.392Z"
   },
   {
    "duration": 77,
    "start_time": "2023-03-23T18:38:48.397Z"
   },
   {
    "duration": 59,
    "start_time": "2023-03-23T18:38:48.476Z"
   },
   {
    "duration": 14,
    "start_time": "2023-03-23T18:38:48.537Z"
   },
   {
    "duration": 18,
    "start_time": "2023-03-23T18:38:48.554Z"
   },
   {
    "duration": 19,
    "start_time": "2023-03-23T18:38:48.573Z"
   },
   {
    "duration": 11,
    "start_time": "2023-03-23T18:38:48.594Z"
   },
   {
    "duration": 37,
    "start_time": "2023-03-23T18:38:48.606Z"
   },
   {
    "duration": 308,
    "start_time": "2023-03-23T18:38:48.645Z"
   },
   {
    "duration": 2478,
    "start_time": "2023-03-23T18:38:48.955Z"
   },
   {
    "duration": 826,
    "start_time": "2023-03-23T18:38:51.435Z"
   },
   {
    "duration": 4,
    "start_time": "2023-03-23T18:38:52.262Z"
   },
   {
    "duration": 39,
    "start_time": "2023-03-23T18:38:52.267Z"
   },
   {
    "duration": 8,
    "start_time": "2023-03-23T18:38:52.308Z"
   },
   {
    "duration": 17,
    "start_time": "2023-03-23T18:38:52.318Z"
   },
   {
    "duration": 11,
    "start_time": "2023-03-23T18:38:52.337Z"
   },
   {
    "duration": 6,
    "start_time": "2023-03-23T18:38:52.351Z"
   },
   {
    "duration": 1380,
    "start_time": "2023-03-23T18:38:52.358Z"
   },
   {
    "duration": 827,
    "start_time": "2023-03-23T18:38:53.741Z"
   },
   {
    "duration": 5882,
    "start_time": "2023-03-23T18:38:54.570Z"
   },
   {
    "duration": 219,
    "start_time": "2023-03-23T18:39:00.453Z"
   },
   {
    "duration": 0,
    "start_time": "2023-03-23T18:39:00.674Z"
   },
   {
    "duration": 0,
    "start_time": "2023-03-23T18:39:00.675Z"
   },
   {
    "duration": 0,
    "start_time": "2023-03-23T18:39:00.734Z"
   },
   {
    "duration": 0,
    "start_time": "2023-03-23T18:39:00.736Z"
   },
   {
    "duration": 0,
    "start_time": "2023-03-23T18:39:00.737Z"
   },
   {
    "duration": 0,
    "start_time": "2023-03-23T18:39:00.738Z"
   },
   {
    "duration": 0,
    "start_time": "2023-03-23T18:39:00.739Z"
   },
   {
    "duration": 2452,
    "start_time": "2023-03-23T18:40:50.513Z"
   },
   {
    "duration": 4,
    "start_time": "2023-03-23T18:41:03.989Z"
   },
   {
    "duration": 5,
    "start_time": "2023-03-23T18:41:07.424Z"
   },
   {
    "duration": 1667,
    "start_time": "2023-03-23T18:41:15.298Z"
   },
   {
    "duration": 1390,
    "start_time": "2023-03-23T18:41:17.081Z"
   },
   {
    "duration": 9,
    "start_time": "2023-03-23T18:41:21.674Z"
   },
   {
    "duration": 442,
    "start_time": "2023-03-23T18:45:30.613Z"
   },
   {
    "duration": 45,
    "start_time": "2023-03-23T18:49:17.881Z"
   },
   {
    "duration": 50,
    "start_time": "2023-03-23T18:53:05.378Z"
   },
   {
    "duration": 40,
    "start_time": "2023-03-24T14:37:23.448Z"
   },
   {
    "duration": 1365,
    "start_time": "2023-03-24T18:20:14.783Z"
   },
   {
    "duration": 14829,
    "start_time": "2023-03-24T18:20:16.150Z"
   },
   {
    "duration": 8625,
    "start_time": "2023-03-24T18:20:30.980Z"
   },
   {
    "duration": 872,
    "start_time": "2023-03-24T18:20:39.608Z"
   },
   {
    "duration": 4691,
    "start_time": "2023-03-24T18:20:40.482Z"
   },
   {
    "duration": 3806,
    "start_time": "2023-03-24T18:20:45.175Z"
   },
   {
    "duration": 1583,
    "start_time": "2023-03-24T18:20:48.982Z"
   },
   {
    "duration": 7,
    "start_time": "2023-03-24T18:20:50.566Z"
   },
   {
    "duration": 419,
    "start_time": "2023-03-24T18:20:50.574Z"
   },
   {
    "duration": 4640,
    "start_time": "2023-03-24T18:20:50.997Z"
   },
   {
    "duration": 3343,
    "start_time": "2023-03-24T18:20:55.638Z"
   },
   {
    "duration": 4,
    "start_time": "2023-03-24T18:20:58.983Z"
   },
   {
    "duration": 99,
    "start_time": "2023-03-24T18:20:58.989Z"
   },
   {
    "duration": 4,
    "start_time": "2023-03-24T18:20:59.091Z"
   },
   {
    "duration": 22,
    "start_time": "2023-03-24T18:20:59.098Z"
   },
   {
    "duration": 25,
    "start_time": "2023-03-24T18:20:59.123Z"
   },
   {
    "duration": 3,
    "start_time": "2023-03-24T18:20:59.150Z"
   },
   {
    "duration": 7,
    "start_time": "2023-03-24T18:20:59.155Z"
   },
   {
    "duration": 12,
    "start_time": "2023-03-24T18:20:59.164Z"
   },
   {
    "duration": 403,
    "start_time": "2023-03-24T18:20:59.178Z"
   },
   {
    "duration": 2507,
    "start_time": "2023-03-24T18:20:59.583Z"
   },
   {
    "duration": 739,
    "start_time": "2023-03-24T18:21:02.092Z"
   },
   {
    "duration": 3,
    "start_time": "2023-03-24T18:21:02.833Z"
   },
   {
    "duration": 8,
    "start_time": "2023-03-24T18:21:02.837Z"
   },
   {
    "duration": 10,
    "start_time": "2023-03-24T18:21:02.847Z"
   },
   {
    "duration": 14,
    "start_time": "2023-03-24T18:21:02.859Z"
   },
   {
    "duration": 7,
    "start_time": "2023-03-24T18:21:02.875Z"
   },
   {
    "duration": 18,
    "start_time": "2023-03-24T18:21:02.886Z"
   },
   {
    "duration": 1377,
    "start_time": "2023-03-24T18:21:02.906Z"
   },
   {
    "duration": 1116,
    "start_time": "2023-03-24T18:21:04.285Z"
   },
   {
    "duration": 6702,
    "start_time": "2023-03-24T18:21:05.403Z"
   },
   {
    "duration": 2479,
    "start_time": "2023-03-24T18:21:12.107Z"
   },
   {
    "duration": 4,
    "start_time": "2023-03-24T18:21:14.587Z"
   },
   {
    "duration": 15,
    "start_time": "2023-03-24T18:21:14.593Z"
   },
   {
    "duration": 1796,
    "start_time": "2023-03-24T18:21:14.610Z"
   },
   {
    "duration": 1560,
    "start_time": "2023-03-24T18:21:16.408Z"
   },
   {
    "duration": 7,
    "start_time": "2023-03-24T18:21:17.970Z"
   },
   {
    "duration": 9,
    "start_time": "2023-03-24T18:27:09.364Z"
   },
   {
    "duration": 7,
    "start_time": "2023-03-24T18:35:07.115Z"
   },
   {
    "duration": 1443,
    "start_time": "2023-03-27T06:35:50.160Z"
   },
   {
    "duration": 17350,
    "start_time": "2023-03-27T06:35:51.605Z"
   },
   {
    "duration": 10130,
    "start_time": "2023-03-27T06:36:08.956Z"
   },
   {
    "duration": 883,
    "start_time": "2023-03-27T06:36:19.088Z"
   },
   {
    "duration": 5699,
    "start_time": "2023-03-27T06:36:20.045Z"
   },
   {
    "duration": 4914,
    "start_time": "2023-03-27T06:36:25.750Z"
   },
   {
    "duration": 1990,
    "start_time": "2023-03-27T06:36:30.667Z"
   },
   {
    "duration": 614,
    "start_time": "2023-03-27T06:36:32.658Z"
   },
   {
    "duration": 5400,
    "start_time": "2023-03-27T06:36:33.274Z"
   },
   {
    "duration": 4194,
    "start_time": "2023-03-27T06:36:38.676Z"
   },
   {
    "duration": 36,
    "start_time": "2023-03-27T06:37:25.285Z"
   },
   {
    "duration": 3,
    "start_time": "2023-03-27T06:38:58.914Z"
   },
   {
    "duration": 88,
    "start_time": "2023-03-27T06:39:03.201Z"
   },
   {
    "duration": 6,
    "start_time": "2023-03-27T06:39:05.100Z"
   },
   {
    "duration": 4,
    "start_time": "2023-03-27T06:39:08.064Z"
   },
   {
    "duration": 11,
    "start_time": "2023-03-27T06:39:10.758Z"
   },
   {
    "duration": 355,
    "start_time": "2023-03-27T06:39:11.830Z"
   },
   {
    "duration": 3712,
    "start_time": "2023-03-27T06:39:12.662Z"
   },
   {
    "duration": 1235,
    "start_time": "2023-03-27T06:39:16.376Z"
   },
   {
    "duration": 3,
    "start_time": "2023-03-27T06:40:32.364Z"
   },
   {
    "duration": 3,
    "start_time": "2023-03-27T06:40:35.174Z"
   },
   {
    "duration": 1710,
    "start_time": "2023-03-27T06:40:36.176Z"
   },
   {
    "duration": 1544,
    "start_time": "2023-03-27T06:40:37.940Z"
   },
   {
    "duration": 8093,
    "start_time": "2023-03-27T06:40:46.589Z"
   },
   {
    "duration": 3650,
    "start_time": "2023-03-27T06:40:58.910Z"
   },
   {
    "duration": 4,
    "start_time": "2023-03-27T06:41:22.663Z"
   },
   {
    "duration": 6,
    "start_time": "2023-03-27T06:41:26.526Z"
   },
   {
    "duration": 2008,
    "start_time": "2023-03-27T06:41:28.959Z"
   },
   {
    "duration": 1572,
    "start_time": "2023-03-27T06:41:31.693Z"
   },
   {
    "duration": 11,
    "start_time": "2023-03-27T06:41:33.267Z"
   },
   {
    "duration": 196,
    "start_time": "2023-03-27T06:57:16.929Z"
   },
   {
    "duration": 2938,
    "start_time": "2023-03-27T07:00:43.196Z"
   },
   {
    "duration": 2356,
    "start_time": "2023-03-27T07:00:51.916Z"
   },
   {
    "duration": 3418,
    "start_time": "2023-03-27T07:00:59.697Z"
   },
   {
    "duration": 11,
    "start_time": "2023-03-27T07:02:29.984Z"
   },
   {
    "duration": 26,
    "start_time": "2023-03-27T07:02:29.997Z"
   },
   {
    "duration": 567,
    "start_time": "2023-03-27T07:02:30.024Z"
   },
   {
    "duration": 202,
    "start_time": "2023-03-27T07:02:30.594Z"
   },
   {
    "duration": 1591,
    "start_time": "2023-03-27T07:02:30.797Z"
   },
   {
    "duration": 2100,
    "start_time": "2023-03-27T07:02:32.389Z"
   },
   {
    "duration": 2114,
    "start_time": "2023-03-27T07:02:34.491Z"
   },
   {
    "duration": 258,
    "start_time": "2023-03-27T07:02:36.608Z"
   },
   {
    "duration": 3254,
    "start_time": "2023-03-27T07:02:36.867Z"
   },
   {
    "duration": 2876,
    "start_time": "2023-03-27T07:02:40.123Z"
   },
   {
    "duration": 55,
    "start_time": "2023-03-27T07:02:43.001Z"
   },
   {
    "duration": 5,
    "start_time": "2023-03-27T07:02:43.063Z"
   },
   {
    "duration": 89,
    "start_time": "2023-03-27T07:02:43.077Z"
   },
   {
    "duration": 5,
    "start_time": "2023-03-27T07:02:43.168Z"
   },
   {
    "duration": 4,
    "start_time": "2023-03-27T07:02:43.175Z"
   },
   {
    "duration": 6,
    "start_time": "2023-03-27T07:02:43.181Z"
   },
   {
    "duration": 78,
    "start_time": "2023-03-27T07:02:43.190Z"
   },
   {
    "duration": 1091,
    "start_time": "2023-03-27T07:02:43.270Z"
   },
   {
    "duration": 1536,
    "start_time": "2023-03-27T07:02:44.363Z"
   },
   {
    "duration": 4,
    "start_time": "2023-03-27T07:02:45.901Z"
   },
   {
    "duration": 54,
    "start_time": "2023-03-27T07:02:45.907Z"
   },
   {
    "duration": 645,
    "start_time": "2023-03-27T07:02:45.963Z"
   },
   {
    "duration": 726,
    "start_time": "2023-03-27T07:02:46.610Z"
   },
   {
    "duration": 3242,
    "start_time": "2023-03-27T07:02:47.337Z"
   },
   {
    "duration": 1864,
    "start_time": "2023-03-27T07:02:50.581Z"
   },
   {
    "duration": 7,
    "start_time": "2023-03-27T07:02:52.446Z"
   },
   {
    "duration": 20,
    "start_time": "2023-03-27T07:02:52.454Z"
   },
   {
    "duration": 1394,
    "start_time": "2023-03-27T07:02:52.478Z"
   },
   {
    "duration": 1174,
    "start_time": "2023-03-27T07:02:53.875Z"
   },
   {
    "duration": 10,
    "start_time": "2023-03-27T07:02:55.055Z"
   },
   {
    "duration": 3,
    "start_time": "2023-03-27T07:07:43.531Z"
   },
   {
    "duration": 4,
    "start_time": "2023-03-27T07:10:52.515Z"
   },
   {
    "duration": 9,
    "start_time": "2023-03-27T07:13:00.224Z"
   },
   {
    "duration": 485,
    "start_time": "2023-03-27T07:13:33.083Z"
   },
   {
    "duration": 8,
    "start_time": "2023-03-27T07:15:32.573Z"
   },
   {
    "duration": 16,
    "start_time": "2023-03-27T07:15:32.584Z"
   },
   {
    "duration": 394,
    "start_time": "2023-03-27T07:15:32.602Z"
   },
   {
    "duration": 153,
    "start_time": "2023-03-27T07:15:32.998Z"
   },
   {
    "duration": 1436,
    "start_time": "2023-03-27T07:15:33.162Z"
   },
   {
    "duration": 2816,
    "start_time": "2023-03-27T07:15:34.600Z"
   },
   {
    "duration": 3669,
    "start_time": "2023-03-27T07:15:37.418Z"
   },
   {
    "duration": 484,
    "start_time": "2023-03-27T07:15:41.093Z"
   },
   {
    "duration": 3384,
    "start_time": "2023-03-27T07:15:41.589Z"
   },
   {
    "duration": 3707,
    "start_time": "2023-03-27T07:15:44.985Z"
   },
   {
    "duration": 86,
    "start_time": "2023-03-27T07:15:48.694Z"
   },
   {
    "duration": 4,
    "start_time": "2023-03-27T07:15:48.782Z"
   },
   {
    "duration": 34,
    "start_time": "2023-03-27T07:15:48.788Z"
   },
   {
    "duration": 5,
    "start_time": "2023-03-27T07:15:48.824Z"
   },
   {
    "duration": 5,
    "start_time": "2023-03-27T07:15:48.830Z"
   },
   {
    "duration": 21,
    "start_time": "2023-03-27T07:15:48.836Z"
   },
   {
    "duration": 34,
    "start_time": "2023-03-27T07:15:48.866Z"
   },
   {
    "duration": 800,
    "start_time": "2023-03-27T07:15:48.901Z"
   },
   {
    "duration": 1167,
    "start_time": "2023-03-27T07:15:49.702Z"
   },
   {
    "duration": 3,
    "start_time": "2023-03-27T07:15:50.878Z"
   },
   {
    "duration": 12,
    "start_time": "2023-03-27T07:15:50.883Z"
   },
   {
    "duration": 649,
    "start_time": "2023-03-27T07:15:50.896Z"
   },
   {
    "duration": 760,
    "start_time": "2023-03-27T07:15:51.546Z"
   },
   {
    "duration": 3363,
    "start_time": "2023-03-27T07:15:52.309Z"
   },
   {
    "duration": 2013,
    "start_time": "2023-03-27T07:15:55.673Z"
   },
   {
    "duration": 4,
    "start_time": "2023-03-27T07:15:57.688Z"
   },
   {
    "duration": 8,
    "start_time": "2023-03-27T07:15:57.693Z"
   },
   {
    "duration": 1334,
    "start_time": "2023-03-27T07:15:57.702Z"
   },
   {
    "duration": 972,
    "start_time": "2023-03-27T07:15:59.038Z"
   },
   {
    "duration": 10,
    "start_time": "2023-03-27T07:16:00.013Z"
   },
   {
    "duration": 13,
    "start_time": "2023-03-27T07:16:00.025Z"
   },
   {
    "duration": 22,
    "start_time": "2023-03-27T07:16:00.051Z"
   },
   {
    "duration": 9,
    "start_time": "2023-03-27T07:16:02.898Z"
   },
   {
    "duration": 316,
    "start_time": "2023-03-27T07:16:04.483Z"
   },
   {
    "duration": 13,
    "start_time": "2023-03-27T07:18:09.621Z"
   },
   {
    "duration": 5,
    "start_time": "2023-03-27T07:18:35.001Z"
   },
   {
    "duration": 9,
    "start_time": "2023-03-27T07:18:36.755Z"
   },
   {
    "duration": 45827,
    "start_time": "2023-03-27T07:18:39.108Z"
   },
   {
    "duration": 4,
    "start_time": "2023-03-27T07:21:13.583Z"
   },
   {
    "duration": 6,
    "start_time": "2023-03-27T07:22:30.870Z"
   },
   {
    "duration": 4,
    "start_time": "2023-03-27T07:26:21.477Z"
   },
   {
    "duration": 5,
    "start_time": "2023-03-27T07:26:21.483Z"
   },
   {
    "duration": 343,
    "start_time": "2023-03-27T07:26:21.490Z"
   },
   {
    "duration": 158,
    "start_time": "2023-03-27T07:26:21.836Z"
   },
   {
    "duration": 1200,
    "start_time": "2023-03-27T07:26:21.997Z"
   },
   {
    "duration": 1813,
    "start_time": "2023-03-27T07:26:23.199Z"
   },
   {
    "duration": 1559,
    "start_time": "2023-03-27T07:26:25.014Z"
   },
   {
    "duration": 233,
    "start_time": "2023-03-27T07:26:26.574Z"
   },
   {
    "duration": 2137,
    "start_time": "2023-03-27T07:26:26.812Z"
   },
   {
    "duration": 2555,
    "start_time": "2023-03-27T07:26:28.952Z"
   },
   {
    "duration": 22,
    "start_time": "2023-03-27T07:26:31.509Z"
   },
   {
    "duration": 24,
    "start_time": "2023-03-27T07:26:31.532Z"
   },
   {
    "duration": 55,
    "start_time": "2023-03-27T07:26:31.558Z"
   },
   {
    "duration": 4,
    "start_time": "2023-03-27T07:26:31.614Z"
   },
   {
    "duration": 54,
    "start_time": "2023-03-27T07:26:31.620Z"
   },
   {
    "duration": 18,
    "start_time": "2023-03-27T07:26:31.675Z"
   },
   {
    "duration": 32,
    "start_time": "2023-03-27T07:26:31.695Z"
   },
   {
    "duration": 836,
    "start_time": "2023-03-27T07:26:31.728Z"
   },
   {
    "duration": 1226,
    "start_time": "2023-03-27T07:26:32.565Z"
   },
   {
    "duration": 4,
    "start_time": "2023-03-27T07:26:33.793Z"
   },
   {
    "duration": 5,
    "start_time": "2023-03-27T07:26:33.799Z"
   },
   {
    "duration": 439,
    "start_time": "2023-03-27T07:26:33.806Z"
   },
   {
    "duration": 711,
    "start_time": "2023-03-27T07:26:34.250Z"
   },
   {
    "duration": 1723,
    "start_time": "2023-03-27T07:26:34.962Z"
   },
   {
    "duration": 1822,
    "start_time": "2023-03-27T07:26:36.687Z"
   },
   {
    "duration": 6,
    "start_time": "2023-03-27T07:26:38.511Z"
   },
   {
    "duration": 11,
    "start_time": "2023-03-27T07:26:38.519Z"
   },
   {
    "duration": 1296,
    "start_time": "2023-03-27T07:26:38.534Z"
   },
   {
    "duration": 958,
    "start_time": "2023-03-27T07:26:39.832Z"
   },
   {
    "duration": 69,
    "start_time": "2023-03-27T07:26:40.792Z"
   },
   {
    "duration": 11,
    "start_time": "2023-03-27T07:26:40.862Z"
   },
   {
    "duration": 12,
    "start_time": "2023-03-27T07:26:40.875Z"
   },
   {
    "duration": 32988,
    "start_time": "2023-03-27T07:26:51.716Z"
   },
   {
    "duration": 5,
    "start_time": "2023-03-27T07:28:48.686Z"
   },
   {
    "duration": 31313,
    "start_time": "2023-03-27T07:29:56.779Z"
   },
   {
    "duration": 12,
    "start_time": "2023-03-27T07:30:51.777Z"
   },
   {
    "duration": 5,
    "start_time": "2023-03-27T07:35:41.012Z"
   },
   {
    "duration": 4,
    "start_time": "2023-03-27T07:37:27.974Z"
   },
   {
    "duration": 5,
    "start_time": "2023-03-27T07:37:53.479Z"
   },
   {
    "duration": 5,
    "start_time": "2023-03-27T07:38:03.804Z"
   },
   {
    "duration": 5,
    "start_time": "2023-03-27T07:38:10.627Z"
   },
   {
    "duration": 4,
    "start_time": "2023-03-27T07:38:52.106Z"
   },
   {
    "duration": 762,
    "start_time": "2023-03-27T07:42:09.374Z"
   },
   {
    "duration": 990,
    "start_time": "2023-03-27T07:42:16.721Z"
   },
   {
    "duration": 11,
    "start_time": "2023-03-27T07:42:29.901Z"
   },
   {
    "duration": 9,
    "start_time": "2023-03-27T07:43:15.639Z"
   },
   {
    "duration": 22,
    "start_time": "2023-03-27T07:43:15.658Z"
   },
   {
    "duration": 269,
    "start_time": "2023-03-27T07:43:15.682Z"
   },
   {
    "duration": 123,
    "start_time": "2023-03-27T07:43:15.953Z"
   },
   {
    "duration": 838,
    "start_time": "2023-03-27T07:43:16.078Z"
   },
   {
    "duration": 1458,
    "start_time": "2023-03-27T07:43:16.918Z"
   },
   {
    "duration": 1513,
    "start_time": "2023-03-27T07:43:18.378Z"
   },
   {
    "duration": 194,
    "start_time": "2023-03-27T07:43:19.893Z"
   },
   {
    "duration": 1459,
    "start_time": "2023-03-27T07:43:20.089Z"
   },
   {
    "duration": 2418,
    "start_time": "2023-03-27T07:43:21.551Z"
   },
   {
    "duration": 31,
    "start_time": "2023-03-27T07:43:23.970Z"
   },
   {
    "duration": 4,
    "start_time": "2023-03-27T07:43:24.003Z"
   },
   {
    "duration": 29,
    "start_time": "2023-03-27T07:43:24.009Z"
   },
   {
    "duration": 9,
    "start_time": "2023-03-27T07:43:24.040Z"
   },
   {
    "duration": 19,
    "start_time": "2023-03-27T07:43:24.050Z"
   },
   {
    "duration": 13,
    "start_time": "2023-03-27T07:43:24.073Z"
   },
   {
    "duration": 34,
    "start_time": "2023-03-27T07:43:24.087Z"
   },
   {
    "duration": 798,
    "start_time": "2023-03-27T07:43:24.123Z"
   },
   {
    "duration": 1112,
    "start_time": "2023-03-27T07:43:24.923Z"
   },
   {
    "duration": 6,
    "start_time": "2023-03-27T07:43:26.036Z"
   },
   {
    "duration": 4,
    "start_time": "2023-03-27T07:43:26.044Z"
   },
   {
    "duration": 521,
    "start_time": "2023-03-27T07:43:26.049Z"
   },
   {
    "duration": 424,
    "start_time": "2023-03-27T07:43:26.571Z"
   },
   {
    "duration": 1879,
    "start_time": "2023-03-27T07:43:26.997Z"
   },
   {
    "duration": 5,
    "start_time": "2023-03-27T07:43:28.878Z"
   },
   {
    "duration": 1514,
    "start_time": "2023-03-27T07:43:28.885Z"
   },
   {
    "duration": 5,
    "start_time": "2023-03-27T07:43:30.402Z"
   },
   {
    "duration": 24,
    "start_time": "2023-03-27T07:43:30.412Z"
   },
   {
    "duration": 858,
    "start_time": "2023-03-27T07:43:30.438Z"
   },
   {
    "duration": 1056,
    "start_time": "2023-03-27T07:43:31.297Z"
   },
   {
    "duration": 15,
    "start_time": "2023-03-27T07:43:32.366Z"
   },
   {
    "duration": 11,
    "start_time": "2023-03-27T07:43:32.383Z"
   },
   {
    "duration": 63,
    "start_time": "2023-03-27T07:43:32.396Z"
   },
   {
    "duration": 27568,
    "start_time": "2023-03-27T07:43:32.461Z"
   },
   {
    "duration": 15,
    "start_time": "2023-03-27T07:44:00.030Z"
   },
   {
    "duration": 12,
    "start_time": "2023-03-27T07:44:00.050Z"
   },
   {
    "duration": 1034,
    "start_time": "2023-03-27T07:44:00.063Z"
   },
   {
    "duration": 7,
    "start_time": "2023-03-27T07:44:01.098Z"
   },
   {
    "duration": 323,
    "start_time": "2023-03-27T08:31:51.634Z"
   },
   {
    "duration": 4,
    "start_time": "2023-03-27T08:33:00.530Z"
   },
   {
    "duration": 5,
    "start_time": "2023-03-27T08:33:05.430Z"
   }
  ],
  "colab": {
   "name": "PySparkSprint.ipynb",
   "provenance": []
  },
  "kernelspec": {
   "display_name": "Python 3 (ipykernel)",
   "language": "python",
   "name": "python3"
  },
  "language_info": {
   "codemirror_mode": {
    "name": "ipython",
    "version": 3
   },
   "file_extension": ".py",
   "mimetype": "text/x-python",
   "name": "python",
   "nbconvert_exporter": "python",
   "pygments_lexer": "ipython3",
   "version": "3.9.5"
  },
  "toc": {
   "base_numbering": 1,
   "nav_menu": {},
   "number_sections": true,
   "sideBar": true,
   "skip_h1_title": true,
   "title_cell": "Table of Contents",
   "title_sidebar": "Contents",
   "toc_cell": false,
   "toc_position": {
    "height": "calc(100% - 180px)",
    "left": "10px",
    "top": "150px",
    "width": "188px"
   },
   "toc_section_display": true,
   "toc_window_display": true
  }
 },
 "nbformat": 4,
 "nbformat_minor": 5
}
